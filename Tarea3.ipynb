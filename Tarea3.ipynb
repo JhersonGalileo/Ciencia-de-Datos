{
 "cells": [
  {
   "cell_type": "markdown",
   "id": "willing-eight",
   "metadata": {},
   "source": [
    "## **TAREA 3**"
   ]
  },
  {
   "cell_type": "markdown",
   "id": "precious-prescription",
   "metadata": {},
   "source": [
    "### **Funciones en Python**\n",
    "Las funciones en python como en cualquier otro lenguaje de programación, son un conjunto de declaraciones que realizan una tarea especifica.\n",
    "\n",
    "La sintaxis de las funciones en python tienen la siguiente estructura:\n",
    "\n",
    "**def** **nombre funcion** ( parametros ) :  \n",
    "    statement  \n",
    "    statement  \n",
    "    ...  \n",
    "\n",
    "Estas funciones pueden o no retornar objetos, en programación a las funciones que no retornar valor se les conoce como métodos.  \n",
    "ejemplo:"
   ]
  },
  {
   "cell_type": "code",
   "execution_count": 3,
   "id": "stunning-waters",
   "metadata": {},
   "outputs": [
    {
     "name": "stdout",
     "output_type": "stream",
     "text": [
      "La suma de {5},{6} es: 11\n",
      "no retorno nada :(\n",
      "La ejecución de un método retorna:  None\n"
     ]
    }
   ],
   "source": [
    "def suma (a,b):\n",
    "    return a+b\n",
    "\n",
    "def metodo():\n",
    "    print(\"no retorno nada :(\")\n",
    "\n",
    "print(\"La suma de {5},{6} es:\",suma(5,6))\n",
    "print(\"La ejecución de un método retorna: \",metodo())"
   ]
  },
  {
   "cell_type": "markdown",
   "id": "located-instrumentation",
   "metadata": {},
   "source": [
    "Ya teniendo una pequeña noción de lo que es una funcion, profundicemos en los parametros, python nos permite definir  \n",
    "**parametros posicionales** y **parametros con nombre**, estos ultimos nos permiten jugar en el orden que invocamos a una funcion, por ejemplo, en la función anterior de suma, he definido dos parametros a y b, segun la lógica de programación universal se entiente que si mando a llamar esa función debo enviar primero el valor de a y luego el valor de b, pero python es tan abierto que nos permite con parametros posicionales mandarla a llamar de la siguiente forma:  "
   ]
  },
  {
   "cell_type": "code",
   "execution_count": 4,
   "id": "senior-angola",
   "metadata": {},
   "outputs": [
    {
     "name": "stdout",
     "output_type": "stream",
     "text": [
      "La suma de {10},{7} es: 16\n"
     ]
    }
   ],
   "source": [
    "print(\"La suma de {10},{7} es:\",suma(b=10,a=6))"
   ]
  },
  {
   "cell_type": "markdown",
   "id": "committed-christmas",
   "metadata": {},
   "source": [
    "Visualicemos los parametros de mejor manera:"
   ]
  },
  {
   "cell_type": "code",
   "execution_count": 5,
   "id": "martial-water",
   "metadata": {},
   "outputs": [
    {
     "name": "stdout",
     "output_type": "stream",
     "text": [
      "Valor de a:  6\n",
      "Valor de b:  10\n",
      "La suma de {10},{7} es: 16\n"
     ]
    }
   ],
   "source": [
    "def suma (a,b):\n",
    "    print(\"Valor de a: \",a)\n",
    "    print(\"Valor de b: \",b)\n",
    "    return a+b\n",
    "\n",
    "print(\"La suma de {10},{7} es:\",suma(b=10,a=6))"
   ]
  },
  {
   "cell_type": "markdown",
   "id": "animal-bulgaria",
   "metadata": {},
   "source": [
    "En cambio los **parametros posicionales** se entienden de la forma tradicional en el orden que se envien se van asignar a los parametros, tambien esperan el numero de parametros exacto,  \n",
    "Ejemplo:"
   ]
  },
  {
   "cell_type": "code",
   "execution_count": 8,
   "id": "sweet-terrorist",
   "metadata": {},
   "outputs": [
    {
     "name": "stdout",
     "output_type": "stream",
     "text": [
      "X: 10 Y: 5 Z: 3\n"
     ]
    },
    {
     "ename": "TypeError",
     "evalue": "posicionales() missing 1 required positional argument: 'z'",
     "output_type": "error",
     "traceback": [
      "\u001b[1;31m---------------------------------------------------------------------------\u001b[0m",
      "\u001b[1;31mTypeError\u001b[0m                                 Traceback (most recent call last)",
      "\u001b[1;32m<ipython-input-8-d892d05c2e10>\u001b[0m in \u001b[0;36m<module>\u001b[1;34m\u001b[0m\n\u001b[0;32m      4\u001b[0m \u001b[0mposicionales\u001b[0m\u001b[1;33m(\u001b[0m\u001b[1;36m10\u001b[0m\u001b[1;33m,\u001b[0m\u001b[1;36m5\u001b[0m\u001b[1;33m,\u001b[0m\u001b[1;36m3\u001b[0m\u001b[1;33m)\u001b[0m\u001b[1;33m\u001b[0m\u001b[1;33m\u001b[0m\u001b[0m\n\u001b[0;32m      5\u001b[0m \u001b[1;33m\u001b[0m\u001b[0m\n\u001b[1;32m----> 6\u001b[1;33m \u001b[0mposicionales\u001b[0m\u001b[1;33m(\u001b[0m\u001b[1;36m7\u001b[0m\u001b[1;33m,\u001b[0m\u001b[1;36m8\u001b[0m\u001b[1;33m)\u001b[0m\u001b[1;33m\u001b[0m\u001b[1;33m\u001b[0m\u001b[0m\n\u001b[0m\u001b[0;32m      7\u001b[0m \u001b[1;33m\u001b[0m\u001b[0m\n\u001b[0;32m      8\u001b[0m \u001b[0mposicionales\u001b[0m\u001b[1;33m(\u001b[0m\u001b[1;36m7\u001b[0m\u001b[1;33m,\u001b[0m\u001b[1;36m8\u001b[0m\u001b[1;33m,\u001b[0m\u001b[1;36m5\u001b[0m\u001b[1;33m,\u001b[0m\u001b[1;36m6\u001b[0m\u001b[1;33m)\u001b[0m\u001b[1;33m\u001b[0m\u001b[1;33m\u001b[0m\u001b[0m\n",
      "\u001b[1;31mTypeError\u001b[0m: posicionales() missing 1 required positional argument: 'z'"
     ]
    }
   ],
   "source": [
    "def posicionales(x,y,z):\n",
    "    print(\"X:\",x,\"Y:\",y, \"Z:\",z)\n",
    "    \n",
    "posicionales(10,5,3)\n",
    "\n",
    "posicionales(7,8)\n",
    "\n",
    "posicionales(7,8,5,6)"
   ]
  },
  {
   "cell_type": "markdown",
   "id": "sapphire-kansas",
   "metadata": {},
   "source": [
    "Python también nos permite **retornar mas de un parametro** y los asigna a declaraciones de variables lineales, por ejemplo supogamos que necesitamos una funcion que nos retorne la edad de una persona y el nombre:"
   ]
  },
  {
   "cell_type": "code",
   "execution_count": 11,
   "id": "green-traveler",
   "metadata": {},
   "outputs": [
    {
     "name": "stdout",
     "output_type": "stream",
     "text": [
      "Nombre: Mister Edad: 27\n"
     ]
    }
   ],
   "source": [
    "def retonarPersona():\n",
    "    return \"Mister\",27\n",
    "\n",
    "nombre, edad = retonarPersona()\n",
    "\n",
    "print(\"Nombre:\",nombre, \"Edad:\",edad)"
   ]
  },
  {
   "cell_type": "markdown",
   "id": "internal-resort",
   "metadata": {},
   "source": [
    "Ya asombrados de lo potente que es pyton, veamos algo mas interesante, podemos utilizar las **funciones como parametros**, es decir podemos enviar toda la funcionalidad de un metodo a traves de un parametro y utilizarlo como variable en el funcion que lo recibe, veamos un ejemplo:"
   ]
  },
  {
   "cell_type": "code",
   "execution_count": 12,
   "id": "excited-quantity",
   "metadata": {},
   "outputs": [
    {
     "name": "stdout",
     "output_type": "stream",
     "text": [
      "Guatemala Mister 27\n"
     ]
    }
   ],
   "source": [
    "def insertarPersonaEnBD(getPersona, ciudad=\"Guatemala\"):\n",
    "    nombre, edad = getPersona()\n",
    "    print(ciudad,nombre,edad)\n",
    "    \n",
    "insertarPersonaEnBD(retonarPersona)"
   ]
  },
  {
   "cell_type": "markdown",
   "id": "regional-modification",
   "metadata": {},
   "source": [
    "Partiendo del ejemplo anterior podemos ver que en python todo es tratado como un objeto, es decir podemos asignar a variables funciones!!!, veamos un ejemplo para entender como trabajan las **funciones como objetos**:"
   ]
  },
  {
   "cell_type": "code",
   "execution_count": 15,
   "id": "exotic-fiction",
   "metadata": {},
   "outputs": [
    {
     "name": "stdout",
     "output_type": "stream",
     "text": [
      "Hola!! Funcion como objeto\n"
     ]
    }
   ],
   "source": [
    "def saludar(nombre):\n",
    "    print(\"Hola!!\",nombre)\n",
    "    \n",
    "soyX = saludar\n",
    "\n",
    "soyX(\"Funcion como objeto\")"
   ]
  },
  {
   "cell_type": "markdown",
   "id": "worst-fleece",
   "metadata": {},
   "source": [
    "Y para terminar este contenido de funciones veamos las **funciones lambda** estas se les conoce como anonimas, su declaracion es distinta se declaran de la siguiente manera:  \n",
    "lambda **parametros** : **statement**  \n",
    "y para que estas existan en memoria debemos asignarsela alguna variable, como lo vimos anteriormente, veamos un ejemplo:"
   ]
  },
  {
   "cell_type": "code",
   "execution_count": 16,
   "id": "decreased-breach",
   "metadata": {},
   "outputs": [
    {
     "data": {
      "text/plain": [
       "<function __main__.<lambda>(a, b)>"
      ]
     },
     "execution_count": 16,
     "metadata": {},
     "output_type": "execute_result"
    }
   ],
   "source": [
    "lambda a,b : a+b #aqui voy a perder la funcion ya que no asigno a ninguna variable"
   ]
  },
  {
   "cell_type": "code",
   "execution_count": 17,
   "id": "fleet-performance",
   "metadata": {},
   "outputs": [
    {
     "name": "stdout",
     "output_type": "stream",
     "text": [
      "15\n"
     ]
    }
   ],
   "source": [
    "#Aqui voy asignarle la función a una variable y voy a poder utilizar su funcionalidad:\n",
    "suma = lambda a,b : a+b\n",
    "print(suma(10,5))"
   ]
  }
 ],
 "metadata": {
  "kernelspec": {
   "display_name": "Python 3",
   "language": "python",
   "name": "python3"
  },
  "language_info": {
   "codemirror_mode": {
    "name": "ipython",
    "version": 3
   },
   "file_extension": ".py",
   "mimetype": "text/x-python",
   "name": "python",
   "nbconvert_exporter": "python",
   "pygments_lexer": "ipython3",
   "version": "3.9.1"
  }
 },
 "nbformat": 4,
 "nbformat_minor": 5
}
