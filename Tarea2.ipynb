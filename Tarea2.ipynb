{
 "cells": [
  {
   "cell_type": "markdown",
   "id": "younger-midnight",
   "metadata": {},
   "source": [
    "# GIT \n",
    "## Sistema de Control de Versiones\n",
    "\n",
    "Para comprender que es git debemos entender que es un controlador de versiones, para ello vamos a ejemplificarlo con un pequeño archivo llamado \"basic.txt\" a este archivo le ingresaremos el texto \"primera linea\".\n"
   ]
  },
  {
   "cell_type": "code",
   "execution_count": 5,
   "id": "utility-arnold",
   "metadata": {},
   "outputs": [],
   "source": [
    "%echo \"primera linea \" >> basic.txt"
   ]
  },
  {
   "cell_type": "markdown",
   "id": "oriented-identity",
   "metadata": {},
   "source": [
    "Para validar que exista vamos a listar el archivo recien creado."
   ]
  },
  {
   "cell_type": "code",
   "execution_count": 7,
   "id": "fewer-motion",
   "metadata": {},
   "outputs": [
    {
     "name": "stdout",
     "output_type": "stream",
     "text": [
      " El volumen de la unidad C no tiene etiqueta.\n",
      " El n£mero de serie del volumen es: 46CF-D87E\n",
      "\n",
      " Directorio de C:\\Users\\Usuario\\anaconda3\\envs\\CDDP\\Tareas\n",
      "\n",
      "08/02/2021  15:00    <DIR>          .\n",
      "08/02/2021  15:00    <DIR>          ..\n",
      "08/02/2021  14:43                35 .gitignore\n",
      "08/02/2021  14:40    <DIR>          .ipynb_checkpoints\n",
      "08/02/2021  14:59                38 basic.txt\n",
      "08/02/2021  15:00             1,197 Tarea2.ipynb\n",
      "               3 archivos          1,270 bytes\n",
      "               3 dirs  94,462,099,456 bytes libres\n"
     ]
    }
   ],
   "source": [
    "%ls"
   ]
  },
  {
   "cell_type": "markdown",
   "id": "looking-adult",
   "metadata": {},
   "source": [
    "podemos ver que el archivo se creo, ahora veamos su contenido:"
   ]
  },
  {
   "cell_type": "code",
   "execution_count": 2,
   "id": "dimensional-clone",
   "metadata": {},
   "outputs": [
    {
     "data": {
      "text/plain": [
       "['\"primera linea \" ', '\"primera linea \" ']"
      ]
     },
     "execution_count": 2,
     "metadata": {},
     "output_type": "execute_result"
    }
   ],
   "source": [
    "%sx type basic.txt"
   ]
  },
  {
   "cell_type": "markdown",
   "id": "global-statement",
   "metadata": {},
   "source": [
    "Ahora digamos que tenemos una imagen de este archivo actualmente que solo contiene \"primera linea\", un controlador de versiones nos va a guardar la imagen de este archivo si se lo indicamos, pero la pregunta para que?, entonces imaginemos que que vamos a agregarle unas 3 lineas de contenido mas, después de agregarle el contenido le decimos a GIT que nos guarde una imagen de estos nuevos cambios, tiempo después nos damos cuenta que cometimos errores en las lineas que ingresamos, git nos permite regresar a la imagen que tomamos anteriormente(en este caso seria la \"primera linea\" ingresando solo comandos que comprende GIT, con este pequeño ejemplo podemos ver la esencia de un controlador de versiones, ya que regresar a contenidos anteriores a un archivo que estamos trabajando de manera manual seria un dolor de cabeza, lo bueno es que existe GIT!!."
   ]
  },
  {
   "cell_type": "markdown",
   "id": "unsigned-corrections",
   "metadata": {},
   "source": [
    "Teniendo una idea de lo que GIT es, veamos su modelo de datos:\n",
    "* **Mantiene el historial**: nos permite ver los cambios realizados de los archivos sobre el tiempo.\n",
    "* **Da soporte a ramas**: Permite hacer una copia de cierto punto en el tiempo para agregar funcionalidades que pueden unirse despues.\n",
    "* **Permite la colaboración**: Varias personas pueden trabajar sobre los mismos archivos permitiendo el trabajo en paralelo.\n",
    "\n",
    "Los puntos en el tiempo son conocidos en GIT como **snapshots**, es una colección de archivos y carpetas dentro de un directorio de alto nivel, donde un directorio es llamado \"tree\" y un archivo \"blob\". Ver el ejemplo siguiente.\n",
    "\n",
    "    <root> (tree)\n",
    "    |\n",
    "    +- Tarea2 (tree)\n",
    "    |  |\n",
    "    |  + basic.txt (blob, contents = \"primera linea\")\n",
    "    |\n",
    "    +- baz.txt (blob, contents = \"git is wonderful\")\n",
    "\n",
    "\n",
    "En no existe un comando como **snapshots** para crear una nueva version del código, en su lugar existe el famoso commit, este crea una version nueva en nuestro repositorio, en este solo van a existir los cambios que no esten en el commit anterior, para ejemplificarlo vea el siguiente diagrama:\n",
    "\n",
    "    o <-- o <-- o <-- o\n",
    "                ^\n",
    "                 \\\n",
    "                  --- o <-- o\n",
    "\n",
    "Cada vez que creamos un nuevo commit, a este se le asocia un código hash, muy util ya que nos permite obtener información relativa de ese snapshot.  \n",
    "\n",
    "Por ejemplo en el arhivo que creamos inicialmente basic.txt, al momento de decirle a GIT que creara una version de este archivo(suponiendo que es el primer archivo en nuestro repositorio), se crear el primer snapshot:\n",
    "\n",
    "    o\n",
    " Ahora a este archivo le agregamos una segunda linea de código \"segunda linea\" y le decimos a GIT que cree un nuevo commit, nuestro repositorio se veria similar a esto:\n",
    " \n",
    "    o <-- o (se agrego  \"segunda linea\")\n",
    "\n",
    "Y agregamos una \"tercer linea\" a nuestro archivo y volvemos a crear una imagen del archivo.\n",
    "\n",
    "    o <-- o <-- o\n",
    "\n",
    "Entonces cada commit en nuestro repositorio se le asigna un código hash de 40 caracteres hexadecimales, pero podemos hacer referencia a este usando los primeros caracteres, por ejemplo un código hash seria c557a2bcbfc56d82e761ad403c36501907318da9, pero podemos referirnos a este como **c557a2**.\n",
    "    "
   ]
  },
  {
   "cell_type": "markdown",
   "id": "defensive-debate",
   "metadata": {},
   "source": [
    "Un punto **muy importante a tomar en cuenta**, es que para usar cualquier comando de GIT debemos anteponer el comando **git**,\n",
    "ejemplo, si queremos iniciar un repositorio utilizamos el comando **git init**. Esto nos crea toda la estructura para trabajar con un nuevo repositorio."
   ]
  },
  {
   "cell_type": "markdown",
   "id": "opponent-collective",
   "metadata": {},
   "source": [
    "En este punto se ha tratado de dar a entender con pequeños ejemplos que es un controlador de versiones, pero es necesario conocer los comandos más comunes que se utilizan para trabajar con GIT:\n",
    "* git init\n",
    "* git add nombre blob | <.>\n",
    "* git commit -m mensaje\n",
    "* git clone\n",
    "* git log\n",
    "* git status\n",
    "* git push\n",
    "* git pull\n",
    "* git merge\n",
    "* git branch\n",
    "* git checkout"
   ]
  },
  {
   "cell_type": "markdown",
   "id": "incomplete-extra",
   "metadata": {},
   "source": [
    "Para comprender algunos comandos vamos a realizar un pequeño ejemplo.\n",
    "1.- Vamos a crear una carpeta"
   ]
  },
  {
   "cell_type": "code",
   "execution_count": 3,
   "id": "increasing-bathroom",
   "metadata": {},
   "outputs": [
    {
     "data": {
      "text/plain": [
       "''"
      ]
     },
     "execution_count": 3,
     "metadata": {},
     "output_type": "execute_result"
    }
   ],
   "source": [
    "%sx mkdir repositorio\n",
    "\n"
   ]
  },
  {
   "cell_type": "code",
   "execution_count": 10,
   "id": "prepared-pastor",
   "metadata": {},
   "outputs": [
    {
     "name": "stdout",
     "output_type": "stream",
     "text": [
      "C:\\Users\\Usuario\\anaconda3\\envs\\CDDP\\Tareas\\repositorio\n"
     ]
    }
   ],
   "source": [
    "%cd repositorio"
   ]
  },
  {
   "cell_type": "markdown",
   "id": "sitting-activation",
   "metadata": {},
   "source": [
    "Para validar que estamos en la carpeta que debemos vamos a verificarlo con el comando:"
   ]
  },
  {
   "cell_type": "code",
   "execution_count": 11,
   "id": "experienced-smell",
   "metadata": {},
   "outputs": [
    {
     "data": {
      "text/plain": [
       "[' El volumen de la unidad C no tiene etiqueta.',\n",
       " ' El n£mero de serie del volumen es: 46CF-D87E',\n",
       " '',\n",
       " ' Directorio de C:\\\\Users\\\\Usuario\\\\anaconda3\\\\envs\\\\CDDP\\\\Tareas\\\\repositorio',\n",
       " '',\n",
       " '09/02/2021  17:45    <DIR>          .',\n",
       " '09/02/2021  17:45    <DIR>          ..',\n",
       " '               0 archivos              0 bytes',\n",
       " '               2 dirs  83,147,628,544 bytes libres']"
      ]
     },
     "execution_count": 11,
     "metadata": {},
     "output_type": "execute_result"
    }
   ],
   "source": [
    "%sx dir"
   ]
  },
  {
   "cell_type": "markdown",
   "id": "statewide-divorce",
   "metadata": {},
   "source": [
    "Si todo esta correcto vamos a comenzar un repositorio con el comando antes mencionado:\n"
   ]
  },
  {
   "cell_type": "code",
   "execution_count": 12,
   "id": "robust-dayton",
   "metadata": {},
   "outputs": [
    {
     "data": {
      "text/plain": [
       "['Initialized empty Git repository in C:/Users/Usuario/anaconda3/envs/CDDP/Tareas/repositorio/.git/']"
      ]
     },
     "execution_count": 12,
     "metadata": {},
     "output_type": "execute_result"
    }
   ],
   "source": [
    "%sx git init"
   ]
  },
  {
   "cell_type": "markdown",
   "id": "centered-kuwait",
   "metadata": {},
   "source": [
    "Creamos un archivo llamado primero.txt"
   ]
  },
  {
   "cell_type": "code",
   "execution_count": 13,
   "id": "complicated-shuttle",
   "metadata": {},
   "outputs": [],
   "source": [
    "%echo \"hola mundo\" >> primero.txt"
   ]
  },
  {
   "cell_type": "markdown",
   "id": "athletic-minimum",
   "metadata": {},
   "source": [
    "Ahora si ejecutamos el comando git status, este nos dara a conocer los cambios que han ocurrido en nuestro repositorio, ya sea la creación de nuevos archivos o cambios en los existentes."
   ]
  },
  {
   "cell_type": "code",
   "execution_count": 14,
   "id": "elegant-duration",
   "metadata": {},
   "outputs": [
    {
     "data": {
      "text/plain": [
       "['On branch master',\n",
       " '',\n",
       " 'No commits yet',\n",
       " '',\n",
       " 'Untracked files:',\n",
       " '  (use \"git add <file>...\" to include in what will be committed)',\n",
       " '',\n",
       " '\\tprimero.txt',\n",
       " '',\n",
       " 'nothing added to commit but untracked files present (use \"git add\" to track)']"
      ]
     },
     "execution_count": 14,
     "metadata": {},
     "output_type": "execute_result"
    }
   ],
   "source": [
    "%sx git status"
   ]
  },
  {
   "cell_type": "markdown",
   "id": "nearby-retreat",
   "metadata": {},
   "source": [
    "Como podemos ver  nos avisa de un archivo al cual no se le esta llevando el control de versiones para agregar archivos a nuestro repositorio usamos el comando git add, este puede tener archivo como parametro o un \".\" que agregaria todo lo nuevo y lo versionado."
   ]
  },
  {
   "cell_type": "code",
   "execution_count": 15,
   "id": "featured-trout",
   "metadata": {},
   "outputs": [
    {
     "data": {
      "text/plain": [
       "[]"
      ]
     },
     "execution_count": 15,
     "metadata": {},
     "output_type": "execute_result"
    }
   ],
   "source": [
    "%sx git add primero.txt"
   ]
  },
  {
   "cell_type": "markdown",
   "id": "armed-stone",
   "metadata": {},
   "source": [
    "Ahora volvemos a ejecutar el comando de estatus para ver lo que esta en nuestra staged area."
   ]
  },
  {
   "cell_type": "code",
   "execution_count": 17,
   "id": "lined-assembly",
   "metadata": {},
   "outputs": [
    {
     "data": {
      "text/plain": [
       "['On branch master',\n",
       " '',\n",
       " 'No commits yet',\n",
       " '',\n",
       " 'Changes to be committed:',\n",
       " '  (use \"git rm --cached <file>...\" to unstage)',\n",
       " '',\n",
       " '\\tnew file:   primero.txt',\n",
       " '']"
      ]
     },
     "execution_count": 17,
     "metadata": {},
     "output_type": "execute_result"
    }
   ],
   "source": [
    "%sx git status\n"
   ]
  },
  {
   "cell_type": "markdown",
   "id": "dedicated-interview",
   "metadata": {},
   "source": [
    "Como vemos nos detecta un nuevo archivo por lo que vamos a crear un snapshot de este archivo con el comando git commit."
   ]
  },
  {
   "cell_type": "code",
   "execution_count": 18,
   "id": "surface-slope",
   "metadata": {},
   "outputs": [
    {
     "data": {
      "text/plain": [
       "['[master (root-commit) b183223] Primer commit, se agrega primero.txt',\n",
       " ' 1 file changed, 1 insertion(+)',\n",
       " ' create mode 100644 primero.txt']"
      ]
     },
     "execution_count": 18,
     "metadata": {},
     "output_type": "execute_result"
    }
   ],
   "source": [
    "%sx git commit -m \"Primer commit, se agrega primero.txt\""
   ]
  },
  {
   "cell_type": "markdown",
   "id": "informal-device",
   "metadata": {},
   "source": [
    "Para ver los cambios que han ocurrido en nuestro repositorio ejecutamos el comando git log, que nos muestra el historico de cambios que han pasado en el tiempo."
   ]
  },
  {
   "cell_type": "code",
   "execution_count": 19,
   "id": "prescribed-jersey",
   "metadata": {},
   "outputs": [
    {
     "data": {
      "text/plain": [
       "['commit b1832231c13c38146fa78d018930e06421c7acd4',\n",
       " 'Author: Jherson Sazo <Jherson.sazo@galileo.edu>',\n",
       " 'Date:   Tue Feb 9 17:53:41 2021 -0600',\n",
       " '',\n",
       " '    Primer commit, se agrega primero.txt']"
      ]
     },
     "execution_count": 19,
     "metadata": {},
     "output_type": "execute_result"
    }
   ],
   "source": [
    "%sx git log"
   ]
  },
  {
   "cell_type": "markdown",
   "id": "restricted-spyware",
   "metadata": {},
   "source": [
    "Como podemos ver, tenemos información de nuestro primer commit, en este tenemos, el autor, fecha, codigo hexa y mensaje del commit."
   ]
  },
  {
   "cell_type": "markdown",
   "id": "small-hollywood",
   "metadata": {},
   "source": [
    "Bien, suponiendo que se va agregar una nueva funcionalidad que se tiene que probar para integrala solo si funciona, entonces vamos a crear una rama desde el snapshot actual, usamos el comando git branch <nombre rama>"
   ]
  },
  {
   "cell_type": "code",
   "execution_count": 20,
   "id": "optimum-model",
   "metadata": {},
   "outputs": [
    {
     "data": {
      "text/plain": [
       "[]"
      ]
     },
     "execution_count": 20,
     "metadata": {},
     "output_type": "execute_result"
    }
   ],
   "source": [
    "%sx git branch newfunction"
   ]
  },
  {
   "cell_type": "markdown",
   "id": "dominant-string",
   "metadata": {},
   "source": [
    "Para ver las ramas con las que hemos creado o trabajo en nuestro repositorio usamos el siguiente comando:"
   ]
  },
  {
   "cell_type": "code",
   "execution_count": 21,
   "id": "derived-steering",
   "metadata": {},
   "outputs": [
    {
     "data": {
      "text/plain": [
       "['* master', '  newfunction']"
      ]
     },
     "execution_count": 21,
     "metadata": {},
     "output_type": "execute_result"
    }
   ],
   "source": [
    "%sx git branch"
   ]
  },
  {
   "cell_type": "markdown",
   "id": "knowing-egypt",
   "metadata": {},
   "source": [
    "El puntero nos dice a donde esta apuntando el HEAD, es decir si creamos una rama y no nos pasamos a esa rama vamos a trabajar sobre la rama en la que se encuentre el HEAD, para cambiarnos entre ramas usamos el comando git checkout nombre-rama"
   ]
  },
  {
   "cell_type": "code",
   "execution_count": 23,
   "id": "subject-bacon",
   "metadata": {},
   "outputs": [
    {
     "data": {
      "text/plain": [
       "[\"Switched to branch 'newfunction'\"]"
      ]
     },
     "execution_count": 23,
     "metadata": {},
     "output_type": "execute_result"
    }
   ],
   "source": [
    "%sx git checkout newfunction"
   ]
  },
  {
   "cell_type": "markdown",
   "id": "falling-drinking",
   "metadata": {},
   "source": [
    "A esta nueva funcionalidad le vamos agregar un nuevo archivo y vamos a modificar algo en el archivo que contiene la nueva rama."
   ]
  },
  {
   "cell_type": "code",
   "execution_count": 24,
   "id": "dried-evanescence",
   "metadata": {},
   "outputs": [
    {
     "data": {
      "text/plain": [
       "[]"
      ]
     },
     "execution_count": 24,
     "metadata": {},
     "output_type": "execute_result"
    }
   ],
   "source": [
    "%sx echo \"nueva linea agregada\" >> primero.txt"
   ]
  },
  {
   "cell_type": "code",
   "execution_count": 25,
   "id": "impaired-colombia",
   "metadata": {},
   "outputs": [
    {
     "data": {
      "text/plain": [
       "[]"
      ]
     },
     "execution_count": 25,
     "metadata": {},
     "output_type": "execute_result"
    }
   ],
   "source": [
    "%sx echo \"nueva funcionalidad agregada\" >> segundo.txt"
   ]
  },
  {
   "cell_type": "code",
   "execution_count": 26,
   "id": "touched-summer",
   "metadata": {},
   "outputs": [
    {
     "name": "stdout",
     "output_type": "stream",
     "text": [
      " El volumen de la unidad C no tiene etiqueta.\n",
      " El n£mero de serie del volumen es: 46CF-D87E\n",
      "\n",
      " Directorio de C:\\Users\\Usuario\\anaconda3\\envs\\CDDP\\Tareas\\repositorio\n",
      "\n",
      "09/02/2021  18:03    <DIR>          .\n",
      "09/02/2021  18:03    <DIR>          ..\n",
      "09/02/2021  18:03                40 primero.txt\n",
      "09/02/2021  18:03                33 segundo.txt\n",
      "               2 archivos             73 bytes\n",
      "               2 dirs  83,144,679,424 bytes libres\n"
     ]
    }
   ],
   "source": [
    "%ls"
   ]
  },
  {
   "cell_type": "markdown",
   "id": "laughing-rochester",
   "metadata": {},
   "source": [
    "Veamos los cambios que git nos dice que hemos hecho:"
   ]
  },
  {
   "cell_type": "code",
   "execution_count": 28,
   "id": "automotive-train",
   "metadata": {},
   "outputs": [
    {
     "data": {
      "text/plain": [
       "['On branch newfunction',\n",
       " 'Changes not staged for commit:',\n",
       " '  (use \"git add <file>...\" to update what will be committed)',\n",
       " '  (use \"git checkout -- <file>...\" to discard changes in working directory)',\n",
       " '',\n",
       " '\\tmodified:   primero.txt',\n",
       " '',\n",
       " 'Untracked files:',\n",
       " '  (use \"git add <file>...\" to include in what will be committed)',\n",
       " '',\n",
       " '\\tsegundo.txt',\n",
       " '',\n",
       " 'no changes added to commit (use \"git add\" and/or \"git commit -a\")']"
      ]
     },
     "execution_count": 28,
     "metadata": {},
     "output_type": "execute_result"
    }
   ],
   "source": [
    "%sx git status"
   ]
  },
  {
   "cell_type": "markdown",
   "id": "documentary-arrival",
   "metadata": {},
   "source": [
    "Podemos ver que nos dice que hemos hecho cambios en el archivo primero.txt y existe un nuevo archivo creado, para no usar el comando add para cada archivo para agregar lo nuevo, usamos git add . para que nos agregue todos los cambios, esto requiere mucho cuidado, ya que si no estamos concientes de los cambios que hemos realizado es mejor un git add archivo-modificado|creado"
   ]
  },
  {
   "cell_type": "code",
   "execution_count": 29,
   "id": "organized-adobe",
   "metadata": {},
   "outputs": [
    {
     "data": {
      "text/plain": [
       "[]"
      ]
     },
     "execution_count": 29,
     "metadata": {},
     "output_type": "execute_result"
    }
   ],
   "source": [
    "%sx git add ."
   ]
  },
  {
   "cell_type": "code",
   "execution_count": 31,
   "id": "sublime-andrew",
   "metadata": {},
   "outputs": [
    {
     "data": {
      "text/plain": [
       "['On branch newfunction',\n",
       " 'Changes to be committed:',\n",
       " '  (use \"git reset HEAD <file>...\" to unstage)',\n",
       " '',\n",
       " '\\tmodified:   primero.txt',\n",
       " '\\tnew file:   segundo.txt',\n",
       " '']"
      ]
     },
     "execution_count": 31,
     "metadata": {},
     "output_type": "execute_result"
    }
   ],
   "source": [
    "%sx git status"
   ]
  },
  {
   "cell_type": "code",
   "execution_count": 32,
   "id": "desirable-fault",
   "metadata": {},
   "outputs": [
    {
     "data": {
      "text/plain": [
       "['[newfunction 8356f3f] Nueva funcionalidad agregada',\n",
       " ' 2 files changed, 2 insertions(+)',\n",
       " ' create mode 100644 segundo.txt']"
      ]
     },
     "execution_count": 32,
     "metadata": {},
     "output_type": "execute_result"
    }
   ],
   "source": [
    "%sx git commit -m \"Nueva funcionalidad agregada\""
   ]
  },
  {
   "cell_type": "markdown",
   "id": "amended-twins",
   "metadata": {},
   "source": [
    "En este punto hemos creado una rama, la hemos modificado, pero esta funcionalidad solo existe en esta rama, veamos que contiene la rama principal. Para ello nos cambiamos a esa rama con git checkout nombre-rama"
   ]
  },
  {
   "cell_type": "code",
   "execution_count": 33,
   "id": "possible-vintage",
   "metadata": {},
   "outputs": [
    {
     "data": {
      "text/plain": [
       "[\"Switched to branch 'master'\"]"
      ]
     },
     "execution_count": 33,
     "metadata": {},
     "output_type": "execute_result"
    }
   ],
   "source": [
    "%sx git checkout master"
   ]
  },
  {
   "cell_type": "code",
   "execution_count": 34,
   "id": "packed-language",
   "metadata": {},
   "outputs": [
    {
     "name": "stdout",
     "output_type": "stream",
     "text": [
      " El volumen de la unidad C no tiene etiqueta.\n",
      " El n£mero de serie del volumen es: 46CF-D87E\n",
      "\n",
      " Directorio de C:\\Users\\Usuario\\anaconda3\\envs\\CDDP\\Tareas\\repositorio\n",
      "\n",
      "09/02/2021  18:09    <DIR>          .\n",
      "09/02/2021  18:09    <DIR>          ..\n",
      "09/02/2021  18:09                15 primero.txt\n",
      "               1 archivos             15 bytes\n",
      "               2 dirs  83,143,639,040 bytes libres\n"
     ]
    }
   ],
   "source": [
    "%ls"
   ]
  },
  {
   "cell_type": "markdown",
   "id": "humanitarian-nelson",
   "metadata": {},
   "source": [
    "Podemos ver que no existe la funcionalidad creada en la otra rama, para unir el contenido de una rama con otra usamos el comando git merge rama-destino, para usar este comando debemos estar en la rama a la cual le vamos agregar funcionalidad, quedaria asi:"
   ]
  },
  {
   "cell_type": "code",
   "execution_count": 36,
   "id": "physical-improvement",
   "metadata": {},
   "outputs": [
    {
     "data": {
      "text/plain": [
       "[\"Switched to branch 'newfunction'\"]"
      ]
     },
     "execution_count": 36,
     "metadata": {},
     "output_type": "execute_result"
    }
   ],
   "source": [
    "%sx git checkout master"
   ]
  },
  {
   "cell_type": "code",
   "execution_count": 41,
   "id": "packed-cruise",
   "metadata": {},
   "outputs": [
    {
     "data": {
      "text/plain": [
       "['Updating b183223..8356f3f',\n",
       " 'Fast-forward',\n",
       " ' primero.txt | 1 +',\n",
       " ' segundo.txt | 1 +',\n",
       " ' 2 files changed, 2 insertions(+)',\n",
       " ' create mode 100644 segundo.txt']"
      ]
     },
     "execution_count": 41,
     "metadata": {},
     "output_type": "execute_result"
    }
   ],
   "source": [
    "%sx git merge newfunction"
   ]
  },
  {
   "cell_type": "markdown",
   "id": "aggregate-faith",
   "metadata": {},
   "source": [
    "Validamos los cambios listando el contenido actual."
   ]
  },
  {
   "cell_type": "code",
   "execution_count": 42,
   "id": "other-composer",
   "metadata": {},
   "outputs": [
    {
     "name": "stdout",
     "output_type": "stream",
     "text": [
      " El volumen de la unidad C no tiene etiqueta.\n",
      " El n£mero de serie del volumen es: 46CF-D87E\n",
      "\n",
      " Directorio de C:\\Users\\Usuario\\anaconda3\\envs\\CDDP\\Tareas\\repositorio\n",
      "\n",
      "09/02/2021  18:13    <DIR>          .\n",
      "09/02/2021  18:13    <DIR>          ..\n",
      "09/02/2021  18:13                40 primero.txt\n",
      "09/02/2021  18:13                33 segundo.txt\n",
      "               2 archivos             73 bytes\n",
      "               2 dirs  83,140,866,048 bytes libres\n"
     ]
    }
   ],
   "source": [
    "%ls"
   ]
  },
  {
   "cell_type": "markdown",
   "id": "optical-forward",
   "metadata": {},
   "source": [
    "Validamos que se ha agregado el contenido de la nueva funcionalidad, es algo muy poderoso que nos permite un controlador de versiones, como ultimo punto de este ensayo de lo importante de git vamos a ver como podemos visualizar los cambios realizados realizados a lo que existe en el commit anterior.\n"
   ]
  },
  {
   "cell_type": "markdown",
   "id": "biological-sussex",
   "metadata": {},
   "source": [
    "    Para hacer eso vamos hacer unos cambios en cualquier archivo y ejecutamos el comando git diff"
   ]
  },
  {
   "cell_type": "code",
   "execution_count": 47,
   "id": "anticipated-thanks",
   "metadata": {},
   "outputs": [
    {
     "data": {
      "text/plain": [
       "[]"
      ]
     },
     "execution_count": 47,
     "metadata": {},
     "output_type": "execute_result"
    }
   ],
   "source": [
    "%sx echo \"estos son nuevos cambios para validar si se agregan o no\" >> segundo.txt\n"
   ]
  },
  {
   "cell_type": "code",
   "execution_count": 48,
   "id": "banned-ownership",
   "metadata": {},
   "outputs": [
    {
     "data": {
      "text/plain": [
       "['diff --git a/segundo.txt b/segundo.txt',\n",
       " 'index 1977e21..bcc7fd5 100644',\n",
       " '--- a/segundo.txt',\n",
       " '+++ b/segundo.txt',\n",
       " '@@ -1 +1,2 @@',\n",
       " ' \"nueva funcionalidad agregada\" ',\n",
       " '+\"estos son nuevos cambios para validar si se agregan o no\" ']"
      ]
     },
     "execution_count": 48,
     "metadata": {},
     "output_type": "execute_result"
    }
   ],
   "source": [
    "%sx git diff"
   ]
  },
  {
   "cell_type": "markdown",
   "id": "addressed-killer",
   "metadata": {},
   "source": [
    "Entonces podemos ver si esos cambios son los que queremos agregar y procedemos con los pasos mencionados arriba.\n",
    "Gracias!"
   ]
  },
  {
   "cell_type": "markdown",
   "id": "political-acoustic",
   "metadata": {},
   "source": [
    "**AUTOR**\n",
    "### **JHERSON SAZO**"
   ]
  }
 ],
 "metadata": {
  "kernelspec": {
   "display_name": "Python 3",
   "language": "python",
   "name": "python3"
  },
  "language_info": {
   "codemirror_mode": {
    "name": "ipython",
    "version": 3
   },
   "file_extension": ".py",
   "mimetype": "text/x-python",
   "name": "python",
   "nbconvert_exporter": "python",
   "pygments_lexer": "ipython3",
   "version": "3.9.1"
  }
 },
 "nbformat": 4,
 "nbformat_minor": 5
}
