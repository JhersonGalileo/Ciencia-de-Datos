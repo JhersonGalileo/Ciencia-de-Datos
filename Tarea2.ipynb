{
 "cells": [
  {
   "cell_type": "markdown",
   "id": "consistent-burton",
   "metadata": {},
   "source": [
    "# GIT \n",
    "## Sistema de Control de Versiones\n",
    "\n",
    "Para comprender que es git debemos entender que es un controlador de versiones, para ello vamos a ejemplificarlo con un pequeño archivo llamado \"basic.txt\" a este archivo le ingresaremos el texto \"primera linea\".\n"
   ]
  },
  {
   "cell_type": "code",
   "execution_count": 5,
   "id": "figured-daily",
   "metadata": {},
   "outputs": [],
   "source": [
    "%echo \"primera linea \" >> basic.txt"
   ]
  },
  {
   "cell_type": "markdown",
   "id": "sustained-phoenix",
   "metadata": {},
   "source": [
    "Para validar que exista vamos a listar el archivo recien creado."
   ]
  },
  {
   "cell_type": "code",
   "execution_count": 7,
   "id": "heard-construction",
   "metadata": {},
   "outputs": [
    {
     "name": "stdout",
     "output_type": "stream",
     "text": [
      " El volumen de la unidad C no tiene etiqueta.\n",
      " El n£mero de serie del volumen es: 46CF-D87E\n",
      "\n",
      " Directorio de C:\\Users\\Usuario\\anaconda3\\envs\\CDDP\\Tareas\n",
      "\n",
      "08/02/2021  15:00    <DIR>          .\n",
      "08/02/2021  15:00    <DIR>          ..\n",
      "08/02/2021  14:43                35 .gitignore\n",
      "08/02/2021  14:40    <DIR>          .ipynb_checkpoints\n",
      "08/02/2021  14:59                38 basic.txt\n",
      "08/02/2021  15:00             1,197 Tarea2.ipynb\n",
      "               3 archivos          1,270 bytes\n",
      "               3 dirs  94,462,099,456 bytes libres\n"
     ]
    }
   ],
   "source": [
    "%ls"
   ]
  },
  {
   "cell_type": "markdown",
   "id": "individual-stocks",
   "metadata": {},
   "source": [
    "podemos ver que el archivo se creo, ahora veamos su contenido:"
   ]
  },
  {
   "cell_type": "code",
   "execution_count": 14,
   "id": "familiar-wheat",
   "metadata": {},
   "outputs": [
    {
     "data": {
      "text/plain": [
       "['\"primera linea \" ', '\"primera linea \" ']"
      ]
     },
     "execution_count": 14,
     "metadata": {},
     "output_type": "execute_result"
    }
   ],
   "source": [
    "%sx type basic.txt"
   ]
  },
  {
   "cell_type": "markdown",
   "id": "superb-imperial",
   "metadata": {},
   "source": [
    "Ahora digamos que tenemos una imagen de este archivo actualmente que solo contiene \"primera linea\", un controlador de versiones nos va a guardar la imagen de este archivo si se lo indicamos, pero la pregunta para que?, entonces imaginemos que que vamos a agregarle unas 3 lineas de contenido mas, después de agregarle el contenido le decimos a GIT que nos guarde una imagen de estos nuevos cambios, tiempo después nos damos cuenta que cometimos errores en las lineas que ingresamos, git nos permite regresar a la imagen que tomamos anteriormente(en este caso seria la \"primera linea\" ingresando solo comandos que comprende GIT, con este pequeño ejemplo podemos ver la esencia de un controlador de versiones, ya que regresar a contenidos anteriores a un archivo que estamos trabajando de manera manual seria un dolor de cabeza, lo bueno es que existe GIT!!."
   ]
  },
  {
   "cell_type": "code",
   "execution_count": 15,
   "id": "metallic-strategy",
   "metadata": {},
   "outputs": [
    {
     "data": {
      "text/plain": [
       "['On branch master',\n",
       " 'Changes not staged for commit:',\n",
       " '  (use \"git add <file>...\" to update what will be committed)',\n",
       " '  (use \"git checkout -- <file>...\" to discard changes in working directory)',\n",
       " '',\n",
       " '\\tmodified:   Tarea2.ipynb',\n",
       " '',\n",
       " 'Untracked files:',\n",
       " '  (use \"git add <file>...\" to include in what will be committed)',\n",
       " '',\n",
       " '\\tbasic.txt',\n",
       " '',\n",
       " 'no changes added to commit (use \"git add\" and/or \"git commit -a\")']"
      ]
     },
     "execution_count": 15,
     "metadata": {},
     "output_type": "execute_result"
    }
   ],
   "source": [
    "%sx git status"
   ]
  },
  {
   "cell_type": "code",
   "execution_count": null,
   "id": "automated-exception",
   "metadata": {},
   "outputs": [],
   "source": []
  }
 ],
 "metadata": {
  "kernelspec": {
   "display_name": "Python 3",
   "language": "python",
   "name": "python3"
  },
  "language_info": {
   "codemirror_mode": {
    "name": "ipython",
    "version": 3
   },
   "file_extension": ".py",
   "mimetype": "text/x-python",
   "name": "python",
   "nbconvert_exporter": "python",
   "pygments_lexer": "ipython3",
   "version": "3.9.1"
  }
 },
 "nbformat": 4,
 "nbformat_minor": 5
}
