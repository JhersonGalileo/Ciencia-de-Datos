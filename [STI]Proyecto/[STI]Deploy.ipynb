{
 "cells": [
  {
   "cell_type": "markdown",
   "id": "three-diamond",
   "metadata": {},
   "source": [
    "## Deployment de algoritmos ML"
   ]
  },
  {
   "cell_type": "code",
   "execution_count": 1,
   "id": "pursuant-scottish",
   "metadata": {},
   "outputs": [],
   "source": [
    "#LIBRERIAS\n",
    "import joblib"
   ]
  }
 ],
 "metadata": {
  "kernelspec": {
   "display_name": "Python 3",
   "language": "python",
   "name": "python3"
  },
  "language_info": {
   "codemirror_mode": {
    "name": "ipython",
    "version": 3
   },
   "file_extension": ".py",
   "mimetype": "text/x-python",
   "name": "python",
   "nbconvert_exporter": "python",
   "pygments_lexer": "ipython3",
   "version": "3.9.1"
  }
 },
 "nbformat": 4,
 "nbformat_minor": 5
}
