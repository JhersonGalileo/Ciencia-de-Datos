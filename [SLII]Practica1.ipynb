{
 "cells": [
  {
   "cell_type": "markdown",
   "id": "handled-sailing",
   "metadata": {},
   "source": [
    "## Practica 1 Stadistical Learning 2\n"
   ]
  },
  {
   "cell_type": "markdown",
   "id": "intellectual-senate",
   "metadata": {},
   "source": [
    "**21000341 - Jherson Sazo**"
   ]
  },
  {
   "cell_type": "markdown",
   "id": "surgical-memorabilia",
   "metadata": {},
   "source": [
    "Descripción:"
   ]
  },
  {
   "cell_type": "markdown",
   "id": "political-treasurer",
   "metadata": {},
   "source": [
    "Llenar información de estatura y edad en la pestaña normales(por favor llenar hoy mismo):  \n",
    "Datos\n",
    "* Utilizar estos datos(primera pestaña) para implementar :\n",
    "    * Hard-clustering con k-means (no usar sklearn)\n",
    "    * Soft-clustering con GMM usando sklearn(sklearn.mixture.GaussianMixture)\n",
    "* Ejecutar al menos 5 experimentos para seleccionar el valor de “K”\n",
    "    * Ambos métodos pueden usar el mismo valor de “K”\n",
    "    * Analizar el centroide de cada cluster y determinar si es posible asignar una categoría  cada cluster\n",
    "* Analizar y concluir si el método del codo es adecuado para este problema\n",
    "* Usar los datos en la segunda pestaña(valtest(normales)) y estimar:\n",
    "    * El cluster que k-means asigna cada uno.\n",
    "    * La probabilidad de pertenecer a cada cluster según GMM.\n",
    "* Usar GMM y simular 1000 observaciones para estimar(estimación de Monte Carlo) el valor esperado(promedio) de la función f   f(edad, estatura) = estatura /edad"
   ]
  },
  {
   "cell_type": "code",
   "execution_count": 2,
   "id": "confused-novel",
   "metadata": {},
   "outputs": [],
   "source": [
    "import numpy as np # Import the necessary packages.\n",
    "import pandas as pd \n",
    "import matplotlib.pyplot as plt"
   ]
  },
  {
   "cell_type": "code",
   "execution_count": 4,
   "id": "retained-village",
   "metadata": {},
   "outputs": [],
   "source": [
    "#cluster = pd.read_csv('k-means clustering.csv') # Read data file into 'cluster'\n",
    "    #cluster = open_excel_by_sheetname('estaturas.xlsx',0) # Read data file into 'cluster'\n",
    "    #cluster.columns = ['x','y']\n",
    "data = open_excel_by_sheetname('estaturas.xlsx',0)\n",
    "data.columns = ['x','y']"
   ]
  },
  {
   "cell_type": "code",
   "execution_count": 29,
   "id": "anticipated-palace",
   "metadata": {},
   "outputs": [],
   "source": [
    "def train_k_means(cluster,k,number_of_iterations):\n",
    "    \n",
    "    rows = cluster.shape[0] # 'rows' contains the total number of rows in cluster data.\n",
    "    cols = cluster.shape[1] # 'cols' contains the total number of columns in cluster data.\n",
    "  \n",
    "    k_initializer = np.random.randint(1,rows,k)\n",
    "    centroids = cluster.loc[k_initializer] # Randomly initialises 'k' no. of centroids.\n",
    "\n",
    "    centroids['new'] = list(range(1,k+1)) # New indices 1 to k are set for the dataframe 'centroids'.\n",
    "    centroids.set_index('new',inplace = True) \n",
    "    d = np.random.rand(rows) # Initialization of 'd' which would contain the centroid number closest to data point.\n",
    "\n",
    "    #number_of_iterations = 15\n",
    "    temp_epsilon = list(range(number_of_iterations)) # 'temp_epsilon' is the sum of squares of distances between points and centroid of a cluster for each iteration.\n",
    "\n",
    "    for i in range(0,number_of_iterations): # This 'for' loop is for iterations.\n",
    "\n",
    "        for j in range(0,rows): # This 'for' loop finds the centroid number closest to the data point.\n",
    "            d[j] = ((centroids - cluster.loc[j])**2).sum(axis = 1).idxmin()\n",
    "        cluster['centroid number'] = d # A new column 'centroid number' is added to dataframe 'cluster'.\n",
    "\n",
    "        mean_x = list(range(k)) # Initialisation of 'mean_x' which will store mean of 'x' values of each cluster.\n",
    "        mean_y = list(range(k)) # Initialisation of 'mean_y' which will store mean of 'y' values of each cluster.\n",
    "        for m in range(0,k): # This 'for' loop calculates mean of 'x' and 'y' values of each cluster.\n",
    "            mean_x[m] = cluster[cluster['centroid number'] == (m+1)]['x'].mean()\n",
    "            mean_y[m] = cluster[cluster['centroid number'] == (m+1)]['y'].mean()\n",
    "        centroids.replace(list(centroids['x']),mean_x,inplace = True) # The 'centroids' are replaced with the new values.\n",
    "        centroids.replace(list(centroids['y']),mean_y,inplace = True)\n",
    "    \n",
    "        z = list(range(k)) # Initialisation of z  and centroid of each cluster.\n",
    "        for p in range(0,k): # This 'for' loop calculates square of distances between data points and centroid of each cluster.\n",
    "            z[p] = ((cluster[cluster['centroid number'] == p+1][['x','y']] - centroids.iloc[p])**2).values.sum()\n",
    "        temp_epsilon[i] = round(sum(z),4) \n",
    "        \n",
    "        if i > 0 and temp_epsilon[i-1] == temp_epsilon[i]:\n",
    "            print(\"SON los costos iguales??\",temp_epsilon[i-1],temp_epsilon[i])\n",
    "            return [cluster,centroids,temp_epsilon[i]]\n",
    "    print(\"LLEGO AL FINAL\")\n",
    "    return [cluster,centroids,temp_epsilon[-1]]"
   ]
  },
  {
   "cell_type": "code",
   "execution_count": 17,
   "id": "recent-opportunity",
   "metadata": {},
   "outputs": [],
   "source": [
    "def open_excel_by_sheetname(full_path, name_sheet):\n",
    "    try:\n",
    "        df = pd.read_excel(full_path, sheet_name=name_sheet)\n",
    "        return df\n",
    "    except Exception as error:\n",
    "        raise error"
   ]
  },
  {
   "cell_type": "code",
   "execution_count": 32,
   "id": "phantom-swiss",
   "metadata": {},
   "outputs": [
    {
     "name": "stdout",
     "output_type": "stream",
     "text": [
      "SON los costos iguales?? 189.1207 189.1207\n",
      "[       x     y  centroid number\n",
      "0   1.77  26.0              1.0\n",
      "1   1.74  31.0              2.0\n",
      "2   1.72  24.0              3.0\n",
      "3   1.78  34.0              2.0\n",
      "4   1.65  32.0              2.0\n",
      "5   1.66  29.0              1.0\n",
      "6   1.64  27.0              1.0\n",
      "7   1.85  34.0              2.0\n",
      "8   1.85  26.0              1.0\n",
      "9   1.75  21.0              3.0\n",
      "10  1.73  23.0              3.0\n",
      "11  1.79  25.0              3.0\n",
      "12  1.82  24.0              3.0\n",
      "13  1.65  25.0              3.0\n",
      "14  1.79  25.0              3.0\n",
      "15  1.72  34.0              2.0\n",
      "16  1.70  26.0              1.0\n",
      "17  1.57  25.0              3.0\n",
      "18  1.66  26.0              1.0\n",
      "19  1.75  27.0              1.0\n",
      "20  1.77  32.0              2.0\n",
      "21  1.80  40.0              4.0\n",
      "22  1.85  25.0              3.0\n",
      "23  1.82  24.0              3.0\n",
      "24  1.75  38.0              2.0\n",
      "25  1.73  34.0              2.0\n",
      "26  1.55  29.0              1.0\n",
      "27  1.76  28.0              1.0\n",
      "28  1.68  27.0              1.0\n",
      "29  1.65  30.0              1.0\n",
      "30  1.72  26.0              1.0\n",
      "31  1.90  24.0              3.0\n",
      "32  1.74  34.0              2.0\n",
      "33  1.73  33.0              2.0\n",
      "34  1.83  53.0              4.0\n",
      "35  1.65  28.0              1.0\n",
      "36  1.73  24.0              3.0\n",
      "37  1.73  22.0              3.0\n",
      "38  1.73  23.0              3.0\n",
      "39  1.65  43.0              4.0\n",
      "40  1.72  26.0              1.0\n",
      "41  1.63  31.0              2.0\n",
      "42  1.73  35.0              2.0\n",
      "43  1.85  49.0              4.0\n",
      "44  1.71  28.0              1.0\n",
      "45  1.70  28.0              1.0,             x          y\n",
      "new                     \n",
      "1    1.698125  27.312500\n",
      "2    1.735000  33.500000\n",
      "3    1.755714  23.857143\n",
      "4    1.782500  46.250000, 189.1207]\n"
     ]
    }
   ],
   "source": [
    "cluster = open_excel_by_sheetname('estaturas.xlsx',0) # Read data file into 'cluster'\n",
    "cluster.head()\n",
    "cluster.columns = ['x','y']\n",
    "print(train_k_means(cluster,4,10))"
   ]
  },
  {
   "cell_type": "markdown",
   "id": "cathedral-leader",
   "metadata": {},
   "source": [
    "**Nota**:\n",
    "Haciendo varios experimentos, me he podido dar cuenta que el valor de costo varia en cada prueba con el mismo numero de K, por lo que he desarrollado un metodo para hacer iterativo a un numero X de iteraciones con el mismo valor de K, buscando obtener el costo mas bajo, y asi tener mejor los centroides.\n",
    "\n",
    "La funcion codo, es iterar variando el numero de K para obtener los centroides con el costo mas bajo, pero esta funcionalidad se va ver reflejada en el siguiente metodo probando 5 valores de K, adicionando lo mencionado anteriormente."
   ]
  },
  {
   "cell_type": "code",
   "execution_count": null,
   "id": "desirable-brooklyn",
   "metadata": {},
   "outputs": [],
   "source": [
    "def test_k_means(reps,k_list,cluster,iteraciones):\n",
    "    costs = {}\n",
    "    for k in k_list:\n",
    "        for i in range(reps):\n",
    "            results = train_k_means(cluster,k,iteraciones)\n",
    "            costs[results[2]]= results\n",
    "    \n",
    "            \n",
    "        "
   ]
  },
  {
   "cell_type": "markdown",
   "id": "welcome-strike",
   "metadata": {},
   "source": [
    "## Soft-clustering con GMM"
   ]
  },
  {
   "cell_type": "code",
   "execution_count": 8,
   "id": "convertible-register",
   "metadata": {},
   "outputs": [],
   "source": [
    "from sklearn.mixture import GaussianMixture"
   ]
  },
  {
   "cell_type": "code",
   "execution_count": 9,
   "id": "corresponding-corruption",
   "metadata": {},
   "outputs": [],
   "source": [
    "def train_GMM(data, K):\n",
    "    gm = GaussianMixture(n_components=K, random_state=0).fit(data)\n",
    "    gm.means_\n",
    "    return gm\n"
   ]
  },
  {
   "cell_type": "code",
   "execution_count": 24,
   "id": "missing-virginia",
   "metadata": {},
   "outputs": [
    {
     "name": "stdout",
     "output_type": "stream",
     "text": [
      "[[ 1.72384042 25.89825759]\n",
      " [ 1.74628242 35.17238953]]\n",
      "[0]\n"
     ]
    }
   ],
   "source": [
    "#Experimento 1, 2 clusters\n",
    "gm = train_GMM(cluster,2)\n",
    "print(gm.means_)\n",
    "print(gm.predict([[1.70,28]]))"
   ]
  },
  {
   "cell_type": "code",
   "execution_count": 32,
   "id": "stainless-marble",
   "metadata": {},
   "outputs": [
    {
     "name": "stdout",
     "output_type": "stream",
     "text": [
      "[[ 1.72807829 25.58286677]\n",
      " [ 1.77666741 48.33323415]\n",
      " [ 1.73243803 33.4444868 ]]\n",
      "[0]\n"
     ]
    }
   ],
   "source": [
    "#Experimento 2, 3 clusters\n",
    "gm = train_GMM(cluster,3)\n",
    "print(gm.means_)\n",
    "print(gm.predict([[1.70,28]]))"
   ]
  },
  {
   "cell_type": "code",
   "execution_count": 26,
   "id": "graphic-manual",
   "metadata": {},
   "outputs": [
    {
     "name": "stdout",
     "output_type": "stream",
     "text": [
      "[[ 1.67056857 28.20035884]\n",
      " [ 1.77666859 48.33329889]\n",
      " [ 1.75158586 34.17089106]\n",
      " [ 1.7503387  24.65611208]]\n",
      "[0]\n"
     ]
    }
   ],
   "source": [
    "#Experimento 3, 4 clusters\n",
    "gm = train_GMM(cluster,4)\n",
    "print(gm.means_)\n",
    "print(gm.predict([[1.70,28]]))"
   ]
  },
  {
   "cell_type": "code",
   "execution_count": 30,
   "id": "viral-group",
   "metadata": {},
   "outputs": [
    {
     "name": "stdout",
     "output_type": "stream",
     "text": [
      "[[ 1.67897568 27.8123578 ]\n",
      " [ 1.84       51.        ]\n",
      " [ 1.73048713 32.97000029]\n",
      " [ 1.7478479  24.64599493]\n",
      " [ 1.73406862 40.29442874]]\n",
      "[0]\n"
     ]
    }
   ],
   "source": [
    "#Experimento 4, 5 clusters\n",
    "gm = train_GMM(cluster,5)\n",
    "print(gm.means_)\n",
    "print(gm.predict([[1.70,28]]))"
   ]
  },
  {
   "cell_type": "code",
   "execution_count": 28,
   "id": "boxed-pavilion",
   "metadata": {},
   "outputs": [
    {
     "name": "stdout",
     "output_type": "stream",
     "text": [
      "[[ 1.7326087  29.52173913]]\n",
      "[0]\n"
     ]
    }
   ],
   "source": [
    "#Experimento 5, 1 clusters\n",
    "gm = train_GMM(cluster,1)\n",
    "print(gm.means_)\n",
    "print(gm.predict([[1.70,28]]))"
   ]
  },
  {
   "cell_type": "markdown",
   "id": "august-excess",
   "metadata": {},
   "source": [
    "**Calulando las predicciones del excel**"
   ]
  },
  {
   "cell_type": "code",
   "execution_count": 38,
   "id": "durable-radius",
   "metadata": {},
   "outputs": [
    {
     "name": "stdout",
     "output_type": "stream",
     "text": [
      "   Estatura(metros)  Edad(años)\n",
      "0              1.82        25.0\n",
      "1              1.80        27.0\n",
      "2              1.60        31.0\n",
      "3              1.60        35.0\n",
      "4              1.82        30.0\n",
      "5              1.76        32.0\n",
      "6              1.79        31.0\n",
      "[0 0 2 2 0 2 2 2]\n"
     ]
    }
   ],
   "source": [
    "test = open_excel_by_sheetname('estaturas.xlsx',1) # Read data file into 'cluster'\n",
    "print(test.head(7))\n",
    "predicts = gm.predict(test)\n",
    "print(predicts)\n",
    "\n"
   ]
  },
  {
   "cell_type": "markdown",
   "id": "dynamic-printing",
   "metadata": {},
   "source": [
    "**Estimar el metodo MonteCarlo con 1000 observaciones**"
   ]
  },
  {
   "cell_type": "code",
   "execution_count": 47,
   "id": "injured-customs",
   "metadata": {},
   "outputs": [
    {
     "name": "stdout",
     "output_type": "stream",
     "text": [
      "[27. 24. 14. 16. 22. 22. 28. 15. 13. 16. 27. 15. 15. 15. 16. 13. 13. 13.\n",
      " 17. 17. 26. 21. 16. 16. 15. 15. 16. 22. 16. 24. 18. 17. 21. 19. 20. 21.\n",
      " 13. 12. 28. 24. 25. 27. 21. 27. 23. 13. 27. 24. 24. 18. 15. 15. 15. 16.\n",
      " 20. 15. 22. 26. 24. 15. 14. 16. 19. 24. 21. 13. 22. 24. 15. 15. 17. 22.\n",
      " 25. 14. 21. 22. 25. 18. 13. 20. 25. 25. 21. 20. 20. 16. 17. 13. 15. 21.\n",
      " 16. 27. 27. 23. 26. 15. 20. 21. 17. 22. 15. 13. 20. 17. 16. 13. 15. 24.\n",
      " 25. 26. 23. 21. 16. 23. 23. 16. 15. 26. 23. 20. 17. 27. 23. 15. 20. 25.\n",
      " 23. 19. 16. 27. 25. 23. 18. 26. 25. 17. 17. 25. 21. 27. 26. 24. 16. 20.\n",
      " 14. 21. 14. 18. 19. 20. 15. 22. 24. 13. 14. 17. 21. 15. 25. 12. 14. 26.\n",
      " 18. 13. 16. 14. 24. 17. 20. 21. 22. 22. 25. 25. 19. 25. 20. 13. 15. 27.\n",
      " 20. 26. 19. 18. 24. 18. 19. 18. 14. 24. 18. 16. 22. 27. 13. 20. 12. 21.\n",
      " 23. 13. 23. 25. 13. 20. 15. 13. 27. 24. 25. 27. 16. 15. 27. 14. 25. 26.\n",
      " 17. 21. 14. 16. 24. 19. 24. 26. 22. 20. 16. 27. 19. 26. 17. 24. 14. 24.\n",
      " 20. 26. 14. 24. 21. 24. 18. 26. 22. 27. 14. 17. 13. 15. 14. 18. 19. 22.\n",
      " 13. 27. 18. 26. 21. 22. 23. 19. 19. 26. 22. 26. 25. 28. 24. 13. 21. 15.\n",
      " 13. 12. 20. 15. 23. 12. 23. 19. 22. 19. 23. 17. 15. 16. 20. 24. 19. 24.\n",
      " 18. 19. 21. 18. 17. 23. 21. 16. 26. 14. 23. 25. 26. 23. 26. 16. 23. 22.\n",
      " 25. 20. 26. 23. 14. 28. 27. 13. 16. 25. 27. 23. 22. 16. 27. 21. 18. 19.\n",
      " 14. 17. 20. 20. 26. 26. 22. 16. 20. 18. 23. 14. 22. 17. 13. 17. 27. 16.\n",
      " 19. 24. 14. 26. 26. 14. 25. 13. 16. 27. 13. 20. 26. 22. 23. 20. 25. 17.\n",
      " 26. 18. 19. 19. 25. 14. 28. 20. 13. 14. 17. 14. 26. 14. 27. 16. 19. 22.\n",
      " 17. 17. 18. 26. 13. 12. 24. 17. 26. 21. 17. 12. 24. 22. 24. 25. 17. 23.\n",
      " 27. 15. 22. 28. 15. 17. 15. 24. 13. 21. 23. 22. 21. 23. 14. 23. 23. 26.\n",
      " 12. 19. 16. 26. 28. 13. 20. 20. 20. 27. 13. 22. 21. 15. 25. 19. 19. 22.\n",
      " 12. 15. 19. 14. 25. 18. 19. 24. 20. 22. 15. 18. 16. 14. 25. 25. 21. 28.\n",
      " 12. 21. 22. 20. 17. 16. 27. 23. 17. 27. 19. 24. 14. 19. 17. 23. 18. 19.\n",
      " 28. 19. 13. 27. 23. 17. 19. 28. 27. 23. 26. 18. 20. 18. 21. 19. 23. 14.\n",
      " 16. 22. 20. 15. 12. 22. 12. 23. 16. 26. 21. 13. 13. 23. 18. 15. 20. 19.\n",
      " 27. 26. 15. 23. 26. 25. 20. 22. 21. 14. 13. 18. 26. 17. 22. 19. 24. 16.\n",
      " 13. 22. 27. 16. 12. 28. 21. 28. 26. 13. 12. 21. 18. 13. 14. 27. 22. 12.\n",
      " 23. 18. 28. 17. 14. 17. 19. 19. 25. 20. 15. 15. 25. 15. 19. 18. 20. 24.\n",
      " 26. 19. 26. 26. 26. 23. 15. 15. 23. 21. 19. 20. 21. 22. 27. 14. 15. 18.\n",
      " 27. 28. 16. 13. 20. 24. 26. 14. 19. 23. 14. 22. 23. 23. 13. 14. 13. 27.\n",
      " 24. 14. 14. 23. 15. 16. 18. 12. 12. 20. 20. 23. 26. 21. 17. 16. 14. 19.\n",
      " 21. 17. 13. 28. 22. 17. 28. 17. 20. 21. 26. 21. 13. 16. 19. 25. 13. 17.\n",
      " 21. 12. 27. 15. 13. 19. 26. 17. 20. 24. 20. 28. 21. 27. 26. 19. 14. 14.\n",
      " 13. 26. 28. 20. 16. 15. 22. 23. 24. 14. 23. 17. 12. 15. 17. 23. 17. 19.\n",
      " 19. 28. 21. 22. 18. 24. 13. 15. 20. 15. 25. 15. 14. 18. 16. 26. 18. 24.\n",
      " 21. 27. 15. 23. 19. 14. 25. 16. 27. 26. 25. 22. 24. 27. 23. 17. 23. 18.\n",
      " 26. 18. 13. 16. 15. 21. 27. 24. 14. 21. 20. 22. 19. 25. 26. 22. 26. 21.\n",
      " 18. 20. 28. 19. 15. 20. 14. 25. 17. 24. 24. 20. 24. 20. 17. 19. 21. 23.\n",
      " 15. 14. 27. 15. 20. 14. 19. 19. 24. 15. 14. 17. 26. 26. 17. 24. 14. 16.\n",
      " 18. 27. 26. 16. 19. 20. 27. 27. 13. 23. 19. 17. 27. 27. 14. 14. 24. 28.\n",
      " 23. 12. 15. 14. 23. 23. 23. 14. 13. 16. 28. 26. 15. 19. 12. 18. 25. 26.\n",
      " 13. 25. 19. 14. 22. 14. 19. 20. 25. 24. 13. 24. 28. 12. 23. 26. 15. 27.\n",
      " 19. 15. 27. 20. 16. 23. 25. 26. 25. 15. 19. 24. 17. 27. 20. 25. 21. 25.\n",
      " 23. 23. 19. 23. 23. 21. 18. 14. 26. 20. 16. 14. 26. 13. 24. 21. 13. 17.\n",
      " 14. 13. 16. 22. 23. 21. 12. 14. 24. 21. 13. 17. 13. 19. 16. 24. 13. 18.\n",
      " 22. 12. 22. 24. 15. 16. 20. 27. 27. 28. 21. 15. 24. 25. 16. 16. 28. 23.\n",
      " 23. 23. 25. 17. 12. 21. 23. 22. 13. 27. 13. 21. 25. 27. 18. 15. 18. 22.\n",
      " 24. 19. 20. 24. 24. 27. 13. 14. 12. 22. 17. 21. 28. 14. 24. 16. 12. 16.\n",
      " 12. 20. 27. 22. 21. 18. 24. 23. 17. 25. 17. 19. 25. 20. 18. 13. 24. 23.\n",
      " 25. 20. 13. 16. 15. 27. 19. 21. 18. 22. 14. 24. 19. 18. 22. 20. 19. 25.\n",
      " 12. 24. 17. 25. 23. 17. 14. 17. 21. 15. 15. 22. 24. 21. 21. 21. 23. 25.\n",
      " 12. 26. 20. 17. 13. 25. 17. 22. 16. 14. 17. 14. 17. 19. 13. 27. 12. 26.\n",
      " 28. 25. 22. 24. 24. 26. 18. 24. 13. 13.]\n"
     ]
    }
   ],
   "source": [
    "#array de estaturas\n",
    "height = np.round(np.random.uniform(low=1.4, high=2.01, size=(1000,)),2)\n",
    "age = np.round(np.random.uniform(low=12, high=28, size=(1000,)),0)\n",
    "\n"
   ]
  },
  {
   "cell_type": "code",
   "execution_count": 8,
   "id": "framed-bedroom",
   "metadata": {},
   "outputs": [
    {
     "data": {
      "text/plain": [
       "array([12, 15, 15, 10])"
      ]
     },
     "execution_count": 8,
     "metadata": {},
     "output_type": "execute_result"
    }
   ],
   "source": [
    "np.random.randint(7,15+1,4)"
   ]
  },
  {
   "cell_type": "code",
   "execution_count": 13,
   "id": "searching-financing",
   "metadata": {},
   "outputs": [
    {
     "data": {
      "text/plain": [
       "[0, 1, 2, 3, 4, 5, 6, 7, 8, 9, 10, 11, 12, 13, 14]"
      ]
     },
     "execution_count": 13,
     "metadata": {},
     "output_type": "execute_result"
    }
   ],
   "source": [
    "d = np.random.rand(27)\n",
    "temp_epsilon = list(range(15))\n",
    "temp_epsilon"
   ]
  }
 ],
 "metadata": {
  "kernelspec": {
   "display_name": "Python 3 (ipykernel)",
   "language": "python",
   "name": "python3"
  },
  "language_info": {
   "codemirror_mode": {
    "name": "ipython",
    "version": 3
   },
   "file_extension": ".py",
   "mimetype": "text/x-python",
   "name": "python",
   "nbconvert_exporter": "python",
   "pygments_lexer": "ipython3",
   "version": "3.8.8"
  }
 },
 "nbformat": 4,
 "nbformat_minor": 5
}
