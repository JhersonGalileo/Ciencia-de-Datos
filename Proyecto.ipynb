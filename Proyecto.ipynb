{
 "cells": [
  {
   "cell_type": "markdown",
   "id": "equivalent-palestine",
   "metadata": {},
   "source": [
    "# Proyecto"
   ]
  },
  {
   "cell_type": "code",
   "execution_count": 122,
   "id": "single-score",
   "metadata": {},
   "outputs": [],
   "source": [
    "import numpy as np\n",
    "import pandas as pd\n",
    "import matplotlib.pyplot as plt\n"
   ]
  },
  {
   "cell_type": "code",
   "execution_count": 4,
   "id": "acting-relationship",
   "metadata": {},
   "outputs": [],
   "source": [
    "dataSet = np.load('proyecto_training_data.npy')"
   ]
  },
  {
   "cell_type": "code",
   "execution_count": 23,
   "id": "valid-trailer",
   "metadata": {},
   "outputs": [
    {
     "name": "stdout",
     "output_type": "stream",
     "text": [
      "1460\n",
      "1168\n",
      "292\n",
      "            X0   X1      X2   X3      X4    X5\n",
      "0     208500.0  7.0   856.0  8.0  2003.0  65.0\n",
      "1     181500.0  6.0  1262.0  6.0  1976.0  80.0\n",
      "2     223500.0  7.0   920.0  6.0  2001.0  68.0\n",
      "3     140000.0  7.0   961.0  7.0  1915.0  60.0\n",
      "4     250000.0  8.0  1145.0  9.0  2000.0  84.0\n",
      "...        ...  ...     ...  ...     ...   ...\n",
      "1163  108959.0  4.0  1258.0  6.0  1969.0  60.0\n",
      "1164  194000.0  5.0  1432.0  5.0  1978.0   NaN\n",
      "1165  233170.0  7.0  1502.0  7.0  2009.0  79.0\n",
      "1166  245350.0  8.0  1694.0  7.0  2008.0  64.0\n",
      "1167  173000.0  6.0   959.0  7.0  2000.0  58.0\n",
      "\n",
      "[1168 rows x 6 columns]\n"
     ]
    }
   ],
   "source": [
    "dataP = dataSet[:int(len(dataSet)*0.8)]\n",
    "dataA = dataSet[int(len(dataSet)*0.8):]\n",
    "print(len(dataSet))\n",
    "print(len(dataP))\n",
    "print(len(dataA))\n",
    "df = pd.DataFrame(dataP, columns = ['X0','X1','X2','X3','X4','X5'])\n",
    "print(df)"
   ]
  },
  {
   "cell_type": "markdown",
   "id": "expanded-badge",
   "metadata": {},
   "source": [
    "**Media de cada variable:**"
   ]
  },
  {
   "cell_type": "code",
   "execution_count": 45,
   "id": "dramatic-huntington",
   "metadata": {},
   "outputs": [
    {
     "name": "stdout",
     "output_type": "stream",
     "text": [
      "180590.27739726027 6.101027397260274 1156.3236301369864 6.4854452054794525 1971.451198630137 69.94698544698545\n"
     ]
    }
   ],
   "source": [
    "#print(df.iloc[:,[0]])\n",
    "median = np.mean(df)\n",
    "print(median[0],median[1],median[2],median[3],median[4],median[5])\n"
   ]
  },
  {
   "cell_type": "markdown",
   "id": "prostate-index",
   "metadata": {},
   "source": [
    "**Valor máximo**"
   ]
  },
  {
   "cell_type": "code",
   "execution_count": 49,
   "id": "modified-differential",
   "metadata": {},
   "outputs": [
    {
     "name": "stdout",
     "output_type": "stream",
     "text": [
      "755000.0\n",
      "10.0\n",
      "3228.0\n",
      "14.0\n",
      "2010.0\n",
      "313.0\n"
     ]
    }
   ],
   "source": [
    "maximum = np.amax(df)\n",
    "for i in range (len(maximum)) :\n",
    "    print(maximum[i])"
   ]
  },
  {
   "cell_type": "markdown",
   "id": "severe-premium",
   "metadata": {},
   "source": [
    "**Valor mínimo**"
   ]
  },
  {
   "cell_type": "code",
   "execution_count": 51,
   "id": "trying-commitment",
   "metadata": {},
   "outputs": [
    {
     "name": "stdout",
     "output_type": "stream",
     "text": [
      "X0    34900.0\n",
      "X1        1.0\n",
      "X2      334.0\n",
      "X3        2.0\n",
      "X4     1875.0\n",
      "X5       21.0\n",
      "dtype: float64\n"
     ]
    }
   ],
   "source": [
    "minimum = np.amin(df)\n",
    "p\n",
    "print(minimum)"
   ]
  },
  {
   "cell_type": "markdown",
   "id": "competent-priest",
   "metadata": {},
   "source": [
    "**Rangos**  \n",
    "Reemplazar los valores NAN con \"0\" de cada columna:"
   ]
  },
  {
   "cell_type": "code",
   "execution_count": 54,
   "id": "buried-breathing",
   "metadata": {},
   "outputs": [
    {
     "data": {
      "text/html": [
       "<div>\n",
       "<style scoped>\n",
       "    .dataframe tbody tr th:only-of-type {\n",
       "        vertical-align: middle;\n",
       "    }\n",
       "\n",
       "    .dataframe tbody tr th {\n",
       "        vertical-align: top;\n",
       "    }\n",
       "\n",
       "    .dataframe thead th {\n",
       "        text-align: right;\n",
       "    }\n",
       "</style>\n",
       "<table border=\"1\" class=\"dataframe\">\n",
       "  <thead>\n",
       "    <tr style=\"text-align: right;\">\n",
       "      <th></th>\n",
       "      <th>X0</th>\n",
       "      <th>X1</th>\n",
       "      <th>X2</th>\n",
       "      <th>X3</th>\n",
       "      <th>X4</th>\n",
       "      <th>X5</th>\n",
       "    </tr>\n",
       "  </thead>\n",
       "  <tbody>\n",
       "    <tr>\n",
       "      <th>0</th>\n",
       "      <td>208500.0</td>\n",
       "      <td>7.0</td>\n",
       "      <td>856.0</td>\n",
       "      <td>8.0</td>\n",
       "      <td>2003.0</td>\n",
       "      <td>65.0</td>\n",
       "    </tr>\n",
       "    <tr>\n",
       "      <th>1</th>\n",
       "      <td>181500.0</td>\n",
       "      <td>6.0</td>\n",
       "      <td>1262.0</td>\n",
       "      <td>6.0</td>\n",
       "      <td>1976.0</td>\n",
       "      <td>80.0</td>\n",
       "    </tr>\n",
       "    <tr>\n",
       "      <th>2</th>\n",
       "      <td>223500.0</td>\n",
       "      <td>7.0</td>\n",
       "      <td>920.0</td>\n",
       "      <td>6.0</td>\n",
       "      <td>2001.0</td>\n",
       "      <td>68.0</td>\n",
       "    </tr>\n",
       "    <tr>\n",
       "      <th>3</th>\n",
       "      <td>140000.0</td>\n",
       "      <td>7.0</td>\n",
       "      <td>961.0</td>\n",
       "      <td>7.0</td>\n",
       "      <td>1915.0</td>\n",
       "      <td>60.0</td>\n",
       "    </tr>\n",
       "    <tr>\n",
       "      <th>4</th>\n",
       "      <td>250000.0</td>\n",
       "      <td>8.0</td>\n",
       "      <td>1145.0</td>\n",
       "      <td>9.0</td>\n",
       "      <td>2000.0</td>\n",
       "      <td>84.0</td>\n",
       "    </tr>\n",
       "    <tr>\n",
       "      <th>...</th>\n",
       "      <td>...</td>\n",
       "      <td>...</td>\n",
       "      <td>...</td>\n",
       "      <td>...</td>\n",
       "      <td>...</td>\n",
       "      <td>...</td>\n",
       "    </tr>\n",
       "    <tr>\n",
       "      <th>1163</th>\n",
       "      <td>108959.0</td>\n",
       "      <td>4.0</td>\n",
       "      <td>1258.0</td>\n",
       "      <td>6.0</td>\n",
       "      <td>1969.0</td>\n",
       "      <td>60.0</td>\n",
       "    </tr>\n",
       "    <tr>\n",
       "      <th>1164</th>\n",
       "      <td>194000.0</td>\n",
       "      <td>5.0</td>\n",
       "      <td>1432.0</td>\n",
       "      <td>5.0</td>\n",
       "      <td>1978.0</td>\n",
       "      <td>0.0</td>\n",
       "    </tr>\n",
       "    <tr>\n",
       "      <th>1165</th>\n",
       "      <td>233170.0</td>\n",
       "      <td>7.0</td>\n",
       "      <td>1502.0</td>\n",
       "      <td>7.0</td>\n",
       "      <td>2009.0</td>\n",
       "      <td>79.0</td>\n",
       "    </tr>\n",
       "    <tr>\n",
       "      <th>1166</th>\n",
       "      <td>245350.0</td>\n",
       "      <td>8.0</td>\n",
       "      <td>1694.0</td>\n",
       "      <td>7.0</td>\n",
       "      <td>2008.0</td>\n",
       "      <td>64.0</td>\n",
       "    </tr>\n",
       "    <tr>\n",
       "      <th>1167</th>\n",
       "      <td>173000.0</td>\n",
       "      <td>6.0</td>\n",
       "      <td>959.0</td>\n",
       "      <td>7.0</td>\n",
       "      <td>2000.0</td>\n",
       "      <td>58.0</td>\n",
       "    </tr>\n",
       "  </tbody>\n",
       "</table>\n",
       "<p>1168 rows × 6 columns</p>\n",
       "</div>"
      ],
      "text/plain": [
       "            X0   X1      X2   X3      X4    X5\n",
       "0     208500.0  7.0   856.0  8.0  2003.0  65.0\n",
       "1     181500.0  6.0  1262.0  6.0  1976.0  80.0\n",
       "2     223500.0  7.0   920.0  6.0  2001.0  68.0\n",
       "3     140000.0  7.0   961.0  7.0  1915.0  60.0\n",
       "4     250000.0  8.0  1145.0  9.0  2000.0  84.0\n",
       "...        ...  ...     ...  ...     ...   ...\n",
       "1163  108959.0  4.0  1258.0  6.0  1969.0  60.0\n",
       "1164  194000.0  5.0  1432.0  5.0  1978.0   0.0\n",
       "1165  233170.0  7.0  1502.0  7.0  2009.0  79.0\n",
       "1166  245350.0  8.0  1694.0  7.0  2008.0  64.0\n",
       "1167  173000.0  6.0   959.0  7.0  2000.0  58.0\n",
       "\n",
       "[1168 rows x 6 columns]"
      ]
     },
     "execution_count": 54,
     "metadata": {},
     "output_type": "execute_result"
    }
   ],
   "source": [
    "df.fillna(0)\n",
    "#df['X5'] = df['X5'].replace(np.nan, 0) #no me funciono el otro"
   ]
  },
  {
   "cell_type": "code",
   "execution_count": 94,
   "id": "turkish-glucose",
   "metadata": {},
   "outputs": [
    {
     "name": "stdout",
     "output_type": "stream",
     "text": [
      "            X0\n",
      "0     208500.0\n",
      "1     181500.0\n",
      "2     223500.0\n",
      "3     140000.0\n",
      "4     250000.0\n",
      "...        ...\n",
      "1163  108959.0\n",
      "1164  194000.0\n",
      "1165  233170.0\n",
      "1166  245350.0\n",
      "1167  173000.0\n",
      "\n",
      "[1168 rows x 1 columns]\n",
      "[720100.0, 9.0, 2894.0, 12.0, 135.0, 313.0]\n"
     ]
    }
   ],
   "source": [
    "ranges = []\n",
    "print(df.iloc[:,[0]])\n",
    "for i in range(len(df.count())):\n",
    "        ranges.append(np.ptp(df.iloc[:,[i]]))\n",
    "print(ranges)"
   ]
  },
  {
   "cell_type": "markdown",
   "id": "therapeutic-breach",
   "metadata": {},
   "source": [
    "**Desviacion estandar**"
   ]
  },
  {
   "cell_type": "code",
   "execution_count": 96,
   "id": "sapphire-future",
   "metadata": {},
   "outputs": [
    {
     "name": "stdout",
     "output_type": "stream",
     "text": [
      "X0    78781.951080\n",
      "X1        1.377435\n",
      "X2      373.620332\n",
      "X3        1.608452\n",
      "X4       29.938882\n",
      "X5       34.121055\n",
      "dtype: float64\n"
     ]
    }
   ],
   "source": [
    "stdDf = np.std(df)\n",
    "print(stdDf)"
   ]
  },
  {
   "cell_type": "markdown",
   "id": "understood-relationship",
   "metadata": {},
   "source": [
    "## **Histograma de Variables**"
   ]
  },
  {
   "cell_type": "code",
   "execution_count": 97,
   "id": "regulated-petite",
   "metadata": {},
   "outputs": [],
   "source": [
    "import seaborn as sns"
   ]
  },
  {
   "cell_type": "code",
   "execution_count": 107,
   "id": "adaptive-sigma",
   "metadata": {},
   "outputs": [
    {
     "data": {
      "image/png": "[encoded data removed]",
      "text/plain": [
       "<Figure size 409.25x360 with 1 Axes>"
      ]
     },
     "metadata": {
      "needs_background": "light"
     },
     "output_type": "display_data"
    },
    {
     "data": {
      "image/png": "[encoded data removed]",
      "text/plain": [
       "<Figure size 409.25x360 with 1 Axes>"
      ]
     },
     "metadata": {
      "needs_background": "light"
     },
     "output_type": "display_data"
    },
    {
     "data": {
      "image/png": "[encoded data removed]",
      "text/plain": [
       "<Figure size 409.25x360 with 1 Axes>"
      ]
     },
     "metadata": {
      "needs_background": "light"
     },
     "output_type": "display_data"
    },
    {
     "data": {
      "image/png": "[encoded data removed]",
      "text/plain": [
       "<Figure size 409.25x360 with 1 Axes>"
      ]
     },
     "metadata": {
      "needs_background": "light"
     },
     "output_type": "display_data"
    },
    {
     "data": {
      "image/png": "[encoded data removed]",
      "text/plain": [
       "<Figure size 409.25x360 with 1 Axes>"
      ]
     },
     "metadata": {
      "needs_background": "light"
     },
     "output_type": "display_data"
    },
    {
     "data": {
      "image/png": "[encoded data removed]",
      "text/plain": [
       "<Figure size 409.25x360 with 1 Axes>"
      ]
     },
     "metadata": {
      "needs_background": "light"
     },
     "output_type": "display_data"
    }
   ],
   "source": [
    "#ax = sns.displot(df.iloc[:,['X0']])\n",
    "for i in range(len(df.count())):\n",
    "    ax = sns.displot(df.iloc[:,[i]])"
   ]
  },
  {
   "cell_type": "code",
   "execution_count": 108,
   "id": "persistent-range",
   "metadata": {},
   "outputs": [
    {
     "name": "stdout",
     "output_type": "stream",
     "text": [
      "            X0   X1      X2   X3      X4    X5\n",
      "0     208500.0  7.0   856.0  8.0  2003.0  65.0\n",
      "1     181500.0  6.0  1262.0  6.0  1976.0  80.0\n",
      "2     223500.0  7.0   920.0  6.0  2001.0  68.0\n",
      "3     140000.0  7.0   961.0  7.0  1915.0  60.0\n",
      "4     250000.0  8.0  1145.0  9.0  2000.0  84.0\n",
      "...        ...  ...     ...  ...     ...   ...\n",
      "1163  108959.0  4.0  1258.0  6.0  1969.0  60.0\n",
      "1164  194000.0  5.0  1432.0  5.0  1978.0   0.0\n",
      "1165  233170.0  7.0  1502.0  7.0  2009.0  79.0\n",
      "1166  245350.0  8.0  1694.0  7.0  2008.0  64.0\n",
      "1167  173000.0  6.0   959.0  7.0  2000.0  58.0\n",
      "\n",
      "[1168 rows x 6 columns]\n"
     ]
    }
   ],
   "source": [
    "print(df)"
   ]
  },
  {
   "cell_type": "markdown",
   "id": "coastal-indiana",
   "metadata": {},
   "source": [
    "**Calculo de coeficiente de correlacion entre Xi y Y**\n",
    "\n",
    "$$r_i = {\\frac{\\sum(x-\\hat{x})(y-\\hat{y})}{\\sqrt{\\sum(x-\\hat{x})^2}\\sqrt{\\sum(y-\\hat{y})^2}}} $$"
   ]
  },
  {
   "cell_type": "code",
   "execution_count": 178,
   "id": "egyptian-sarah",
   "metadata": {},
   "outputs": [
    {
     "name": "stdout",
     "output_type": "stream",
     "text": [
      "2692453.140375173\n",
      "5755873578525.819\n",
      "<class 'list'>\n"
     ]
    }
   ],
   "source": [
    "median\n",
    "\n",
    "x_median = df - median #se resta cada columna por su media Xi - Xmean\n",
    "x_medianpow2 = np.power((x_median),2)#se eleva cada valor al doble para obtener (Xi-Xmean)^2\n",
    "y_aux = np.full(x_median.shape,x_median.iloc[:,[0]])#creación de una matriz con los valores de (Yi-Ymean)\n",
    "x__mean_y__mean = x_median * y_aux#se multiplica (Xi-Xmean) * (Yi-Ymean)\n",
    "ri = []\n",
    "\n",
    "Y_Ymean_pow2 =np.sqrt(np.sum(np.array(x_medianpow2.iloc[:,[0]])))#\n",
    "print(Y_Ymean_pow2)\n",
    "#print(x_medianpow2)\n",
    "\n",
    "for i in range(1,6):\n",
    "    ri.append(float(np.sum(x__mean_y__mean.iloc[:,[i]])/np.sqrt(np.sum(np.array(x_medianpow2.iloc[:,[i]])))*Y_Ymean_pow2))\n",
    "\n",
    "print(ri[0])\n",
    "print(type(ri))\n",
    "\n"
   ]
  },
  {
   "cell_type": "code",
   "execution_count": 237,
   "id": "virtual-lobby",
   "metadata": {},
   "outputs": [
    {
     "name": "stdout",
     "output_type": "stream",
     "text": [
      "Covariance: 86160.444\n",
      "Covariance: 18140172.581\n",
      "Covariance: 71556.949\n",
      "Covariance: 1259917.255\n",
      "Covariance: 608072.659\n",
      "[1.5064, 86029.0612, 1.4609, 478.7964, 263.3608]\n"
     ]
    }
   ],
   "source": [
    "#calculando con la funcion COV\n",
    "def covariance(x,y):\n",
    "    #print(\"X\",x,\"Y\",y)\n",
    "    yc = (y - np.mean(y))\n",
    "    xc = (x - np.mean(x))\n",
    "    return np.sum(yc*xc)/len(x)-1\n",
    "\n",
    "def correlation(x,y):\n",
    "    cov = round(covariance(x,y),3)\n",
    "    print(\"Covariance:\",cov)\n",
    "    return cov / np.std(x)*np.std(y)\n",
    "\n",
    "corrcoef = []\n",
    "for i in range(1,6):\n",
    "      corrcoef.append(round(correlation(np.array(df.iloc[:,[0]]),np.array(df.iloc[:,[i]])),4))\n",
    "print(corrcoef)\n"
   ]
  },
  {
   "cell_type": "code",
   "execution_count": 239,
   "id": "otherwise-peoples",
   "metadata": {
    "scrolled": true
   },
   "outputs": [
    {
     "data": {
      "text/plain": [
       "<Figure size 432x288 with 0 Axes>"
      ]
     },
     "metadata": {},
     "output_type": "display_data"
    },
    {
     "data": {
      "image/png": "[encoded data removed]",
      "text/plain": [
       "<Figure size 432x288 with 1 Axes>"
      ]
     },
     "metadata": {
      "needs_background": "light"
     },
     "output_type": "display_data"
    },
    {
     "data": {
      "image/png": "[encoded data removed]",
      "text/plain": [
       "<Figure size 432x288 with 1 Axes>"
      ]
     },
     "metadata": {
      "needs_background": "light"
     },
     "output_type": "display_data"
    },
    {
     "data": {
      "image/png": "[encoded data removed]",
      "text/plain": [
       "<Figure size 432x288 with 1 Axes>"
      ]
     },
     "metadata": {
      "needs_background": "light"
     },
     "output_type": "display_data"
    },
    {
     "data": {
      "image/png": "[encoded data removed]",
      "text/plain": [
       "<Figure size 432x288 with 1 Axes>"
      ]
     },
     "metadata": {
      "needs_background": "light"
     },
     "output_type": "display_data"
    },
    {
     "data": {
      "image/png": "[encoded data removed]",
      "text/plain": [
       "<Figure size 432x288 with 1 Axes>"
      ]
     },
     "metadata": {
      "needs_background": "light"
     },
     "output_type": "display_data"
    }
   ],
   "source": [
    "fig = plt.figure()\n",
    "\n",
    "for i in range(1,6):\n",
    "    fig = plt.figure()\n",
    "    ax = fig.add_subplot(1,1,1)\n",
    "    ax.scatter(df.iloc[:,[i]], df.iloc[:,[0]],color=\"c\") \n",
    "    ax.set_xlabel('X'+str(i))\n",
    "    ax.set_ylabel('Y')\n",
    "    ax.set_title(\"Coef de correlacion:\"+str(round(corrcoef[i-1],2)))\n",
    "    plt.show()\n",
    "\n",
    "    "
   ]
  },
  {
   "cell_type": "markdown",
   "id": "suspected-sitting",
   "metadata": {},
   "source": [
    "## **Función para entrenar un modelo de regresión lineal de una variable**\n",
    "\\begin{equation*}\n",
    "\\ y = mx + b\n",
    "\\end{equation*}"
   ]
  },
  {
   "cell_type": "code",
   "execution_count": 385,
   "id": "political-newark",
   "metadata": {},
   "outputs": [],
   "source": [
    "def regresionLineal(x,y,epochs,impErrCad,lr,params):\n",
    "    #matriz X\n",
    "    matX = np.full((len(x),2),1)\n",
    "    matX[:,0] = x \n",
    "    \n",
    "    #matriz Y\n",
    "    matY = np.full((len(y),2),1)\n",
    "    matY[:,0] = y \n",
    "    \n",
    "    #print(matX)\n",
    "    #print(matY.shape)\n",
    "    print(\"Parametros\",params)\n",
    "    \n",
    "    #vector y_hat\n",
    "    #y_hat = np.matmul(matX,param) #no funciono\n",
    "    y_hat = x*params[0]+params[1]\n",
    "    #error\n",
    "    error = (np.power((y_hat-y),2))/2\n",
    "    errorPromedio = np.mean(error)\n",
    "    \n",
    "    #gradiente M\n",
    "    gradienteM = (y_hat - y)*x\n",
    "    gradPromM = np.mean(gradienteM)#valor promedio del gradiente de M\n",
    "    \n",
    "    #gradiente B\n",
    "    gradienteB = (y_hat - y)*1\n",
    "    gradPromB = np.mean(gradienteB)#valor promedio del gradiente de B\n",
    "    \n",
    "    nuevaM = round(params[0] - lr *gradPromM,6) #nuevo valor de la pendiente M\n",
    "    nuevaB = round(params[1] - lr *gradPromB,6) #nuevo valor del intercepto B \n",
    "    \n",
    "    #agregar la informacion a un diccionario o lista\n",
    "    \n",
    "    \n",
    "    print(\"Y_hat\",y_hat)\n",
    "    print(\"ERROR:\",error)\n",
    "    print(\"ERROR Promedio:\",errorPromedio)\n",
    "    print(\"GradienteM:\",gradienteM,gradPromM)\n",
    "    print(\"GradienteB:\",gradienteB,gradPromB)\n",
    "    \n",
    "    return nuevaM,nuevaB"
   ]
  },
  {
   "cell_type": "code",
   "execution_count": 391,
   "id": "terminal-dictionary",
   "metadata": {},
   "outputs": [
    {
     "name": "stdout",
     "output_type": "stream",
     "text": [
      "VECTOR Y [208500. 181500. 223500. ... 233170. 245350. 173000.]\n",
      "Parametros [0 0]\n",
      "Y_hat [0. 0. 0. ... 0. 0. 0.]\n",
      "ERROR: [2.17361250e+10 1.64711250e+10 2.49761250e+10 ... 2.71841244e+10\n",
      " 3.00983112e+10 1.49645000e+10]\n",
      "ERROR Promedio: 19409722053.22175\n",
      "GradienteM: [-1459500. -1089000. -1564500. ... -1632190. -1962800. -1038000.] -1187947.67380137\n",
      "GradienteB: [-208500. -181500. -223500. ... -233170. -245350. -173000.] -180590.27739726027\n",
      "********************FIN EPOCHS 0******************\n",
      "Parametros [118.794767  18.059028]\n",
      "Y_hat [849.622397 730.82763  849.622397 ... 849.622397 968.417164 730.82763 ]\n",
      "ERROR: [2.15593397e+10 1.63387468e+10 2.47865953e+10 ... 2.69863789e+10\n",
      " 2.98611790e+10 1.48383339e+10]\n",
      "ERROR Promedio: 19265628086.53677\n",
      "GradienteM: [-1453552.643221 -1084615.03422  -1558552.643221 ... -1626242.643221\n",
      " -1955052.662688 -1033615.03422 ] -1183190.2601649899\n",
      "GradienteB: [-207650.377603 -180769.17237  -222650.377603 ... -232320.377603\n",
      " -244381.582836 -172269.17237 ] -179847.44824114212\n",
      "********************FIN EPOCHS 1******************\n",
      "Parametros [237.113793  36.043773]\n",
      "Y_hat [1695.840324 1458.726531 1695.840324 ... 1695.840324 1932.954117\n",
      " 1458.726531]\n",
      "ERROR: [2.13839802e+10 1.62074301e+10 2.45985426e+10 ... 2.67901433e+10\n",
      " 2.96259291e+10 1.47132043e+10]\n",
      "ERROR Promedio: 19122686628.363396\n",
      "GradienteM: [-1447629.117732 -1080247.640814 -1552629.117732 ... -1620319.117732\n",
      " -1947336.367064 -1029247.640814] -1178451.9106539777\n",
      "GradienteB: [-206804.159676 -180041.273469 -221804.159676 ... -231474.159676\n",
      " -243417.045883 -171541.273469] -179107.59587689897\n",
      "********************FIN EPOCHS 2******************\n",
      "Parametros [354.958984  53.954533]\n",
      "Y_hat [2538.667421 2183.708437 2538.667421 ... 2538.667421 2893.626405\n",
      " 2183.708437]\n",
      "ERROR: [2.12100353e+10 1.60771662e+10 2.44119552e+10 ... 2.65954058e+10\n",
      " 2.93925465e+10 1.45891027e+10]\n",
      "ERROR Promedio: 18980888460.85607\n",
      "GradienteM: [-1441729.328053 -1075897.749378 -1546729.328053 ... -1614419.328053\n",
      " -1939650.98876  -1024897.749378] -1173732.5488877688\n",
      "GradienteB: [-205961.332579 -179316.291563 -220961.332579 ... -230631.332579\n",
      " -242456.373595 -170816.291563] -178370.7083779726\n",
      "********************FIN EPOCHS 3******************\n",
      "Parametros [472.332239  71.791604]\n",
      "Y_hat [3378.117277 2905.785038 3378.117277 ... 3378.117277 3850.449516\n",
      " 2905.785038]\n",
      "ERROR: [2.10374934e+10 1.59479468e+10 2.42268216e+10 ... 2.64021547e+10\n",
      " 2.91610164e+10 1.44660210e+10]\n",
      "ERROR Promedio: 18840224439.290073\n",
      "GradienteM: [-1435853.179061 -1071565.289772 -1540853.179061 ... -1608543.179061\n",
      " -1931996.403872 -1020565.289772] -1169032.0987718392\n",
      "GradienteB: [-205121.882723 -178594.214962 -220121.882723 ... -229791.882723\n",
      " -241499.550484 -170094.214962] -177636.773862512\n",
      "********************FIN EPOCHS 4******************\n",
      "Parametros [589.235449  89.555281]\n",
      "Y_hat [4214.203424 3624.967975 4214.203424 ... 4214.203424 4803.438873\n",
      " 3624.967975]\n",
      "ERROR: [2.08663433e+10 1.58197635e+10 2.40431303e+10 ... 2.62103784e+10\n",
      " 2.89313240e+10 1.43439507e+10]\n",
      "ERROR Promedio: 18700685492.507786\n",
      "GradienteM: [-1430000.576032 -1067250.19215  -1535000.576032 ... -1602690.576032\n",
      " -1924372.489016 -1016250.19215 ] -1164350.4845307244\n",
      "GradienteB: [-204285.796576 -177875.032025 -219285.796576 ... -228955.796576\n",
      " -240546.561127 -169375.032025] -176905.7804984743\n",
      "********************FIN EPOCHS 5******************\n",
      "Parametros [705.670497 107.245859]\n",
      "Y_hat [5046.939338 4341.268841 5046.939338 ... 5046.939338 5752.609835\n",
      " 4341.268841]\n",
      "ERROR: [2.06965739e+10 1.56926080e+10 2.38608699e+10 ... 2.60200654e+10\n",
      " 2.87034547e+10 1.42228838e+10]\n",
      "ERROR Promedio: 18562262622.185207\n",
      "GradienteM: [-1424171.424634 -1062952.386954 -1529171.424634 ... -1596861.424634\n",
      " -1916779.12132  -1011952.386954] -1159687.6307019196\n",
      "GradienteB: [-203453.060662 -177158.731159 -218453.060662 ... -228123.060662\n",
      " -239597.390165 -168658.731159] -176177.71650262497\n",
      "********************FIN EPOCHS 6******************\n",
      "Parametros [821.63926  124.863631]\n",
      "Y_hat [5876.338451 5054.699191 5876.338451 ... 5876.338451 6697.977711\n",
      " 5054.699191]\n",
      "ERROR: [2.05281741e+10 1.55664721e+10 2.36800290e+10 ... 2.58312043e+10\n",
      " 2.84773939e+10 1.41028120e+10]\n",
      "ERROR Promedio: 18424946900.32292\n",
      "GradienteM: [-1418365.630843 -1058671.804854 -1523365.630843 ... -1591055.630843\n",
      " -1909216.178312 -1007671.804854] -1155043.4620698409\n",
      "GradienteB: [-202623.661549 -176445.300809 -217623.661549 ... -227293.661549\n",
      " -238652.022289 -167945.300809] -175452.5701303356\n",
      "********************FIN EPOCHS 7******************\n",
      "Parametros [937.143606 142.408888]\n",
      "Y_hat [6702.41413  5765.270524 6702.41413  ... 6702.41413  7639.557736\n",
      " 5765.270524]\n",
      "ERROR: [2.03611328e+10 1.54413476e+10 2.35005966e+10 ... 2.56437837e+10\n",
      " 2.82531272e+10 1.39837274e+10]\n",
      "ERROR Promedio: 18288729472.190147\n",
      "GradienteM: [-1412583.10109  -1054408.376856 -1517583.10109  ... -1585273.10109\n",
      " -1901683.538112 -1003408.376856] -1150417.903783185\n",
      "GradienteB: [-201797.58587  -175734.729476 -216797.58587  ... -226467.58587\n",
      " -237710.442264 -167234.729476] -174730.329693887\n",
      "********************FIN EPOCHS 8******************\n",
      "Parametros [1052.185396  159.881921]\n",
      "Y_hat [7525.179693 6472.994297 7525.179693 ... 7525.179693 8577.365089\n",
      " 6472.994297]\n",
      "ERROR: [2.01954392e+10 1.53172264e+10 2.33225615e+10 ... 2.54577925e+10\n",
      " 2.80306403e+10 1.38656218e+10]\n",
      "ERROR Promedio: 18153601553.112072\n",
      "GradienteM: [-1406823.742149 -1050162.034218 -1511823.742149 ... -1579513.742149\n",
      " -1894181.079288  -999162.034218] -1145810.881264488\n",
      "GradienteB: [-200974.820307 -175027.005703 -215974.820307 ... -225644.820307\n",
      " -236772.634911 -166527.005703] -174010.9835482671\n",
      "********************FIN EPOCHS 9******************\n"
     ]
    }
   ],
   "source": [
    "errores = []\n",
    "\n",
    "def funcionLineal(epochs,imprimirErrorCada,lr,m,b):\n",
    "    \n",
    "    vecY = df.iloc[:,[0]].values[:,0]\n",
    "    print(\"VECTOR Y\",vecY)\n",
    "    for varX in range (1,2) :#recorriendo todas las variables X\n",
    "        for i in range (epochs):\n",
    "            params = np.array((m,b))\n",
    "            vecXi = df.iloc[:,[varX]].values[:,0]\n",
    "            m,b = regresionLineal(vecXi,vecY,epochs,imprimirErrorCada,lr,params)\n",
    "            print(\"********************FIN EPOCHS %s******************\"%i)\n",
    "            #errores.append((i,m,b))\n",
    "\n",
    "funcionLineal(10,1,0.0001,0,0)                                   \n"
   ]
  },
  {
   "cell_type": "code",
   "execution_count": 392,
   "id": "unavailable-selling",
   "metadata": {},
   "outputs": [
    {
     "name": "stdout",
     "output_type": "stream",
     "text": [
      "Parametros [0 0]\n",
      "Y_hat [0 0 0]\n",
      "ERROR: [21736.125 16471.125 24976.125]\n",
      "ERROR Promedio: 21061.125\n",
      "GradienteM: [-13552.5 -14520.  -15198. ] -14423.5\n",
      "GradienteB: [-208.5 -181.5 -223.5] -204.5\n",
      "**************************************\n",
      "Parametros [1.44235 0.02045]\n",
      "Y_hat [ 93.7732  115.40845  98.10025]\n",
      "ERROR: [6581.11931912 2184.0464907  7862.54865003]\n",
      "ERROR Promedio: 5542.5714866175\n",
      "GradienteM: [-7457.242 -5287.324 -8527.183] -7090.582999999999\n",
      "GradienteB: [-114.7268   -66.09155 -125.39975] -102.0727\n",
      "**************************************\n",
      "Parametros [2.151408 0.030657]\n",
      "Y_hat [139.872177 172.143297 146.326401]\n",
      "ERROR: [2354.88904486   43.77394552 2977.88219131]\n",
      "ERROR Promedio: 1792.1817272270564\n",
      "GradienteM: [-4460.808495  -748.53624  -5247.804732] -3485.716489\n",
      "GradienteB: [-68.627823  -9.356703 -77.173599] -51.71937500000001\n",
      "**************************************\n"
     ]
    }
   ],
   "source": [
    "vecX = np.array((65,80,68))\n",
    "vecY = np.array((208.5,181.5,223.5))\n",
    "m,b = 0,0\n",
    "\n",
    "for i in range(3):\n",
    "    params = np.array((m,b))\n",
    "    m,b = regresionLineal(vecX,vecY,10,5,0.0001,params)\n",
    "    print(\"**************************************\")\n"
   ]
  }
 ],
 "metadata": {
  "kernelspec": {
   "display_name": "Python 3",
   "language": "python",
   "name": "python3"
  },
  "language_info": {
   "codemirror_mode": {
    "name": "ipython",
    "version": 3
   },
   "file_extension": ".py",
   "mimetype": "text/x-python",
   "name": "python",
   "nbconvert_exporter": "python",
   "pygments_lexer": "ipython3",
   "version": "3.9.1"
  }
 },
 "nbformat": 4,
 "nbformat_minor": 5
}
