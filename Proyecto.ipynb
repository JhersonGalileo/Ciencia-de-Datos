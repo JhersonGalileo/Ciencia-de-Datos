{
 "cells": [
  {
   "cell_type": "markdown",
   "id": "north-frederick",
   "metadata": {},
   "source": [
    "# Proyecto"
   ]
  },
  {
   "cell_type": "code",
   "execution_count": 3,
   "id": "dirty-attendance",
   "metadata": {},
   "outputs": [],
   "source": [
    "import numpy as np\n",
    "import pandas as pd\n",
    "\n"
   ]
  },
  {
   "cell_type": "code",
   "execution_count": 4,
   "id": "mighty-spider",
   "metadata": {},
   "outputs": [],
   "source": [
    "dataSet = np.load('proyecto_training_data.npy')"
   ]
  },
  {
   "cell_type": "code",
   "execution_count": 23,
   "id": "postal-roman",
   "metadata": {},
   "outputs": [
    {
     "name": "stdout",
     "output_type": "stream",
     "text": [
      "1460\n",
      "1168\n",
      "292\n",
      "            X0   X1      X2   X3      X4    X5\n",
      "0     208500.0  7.0   856.0  8.0  2003.0  65.0\n",
      "1     181500.0  6.0  1262.0  6.0  1976.0  80.0\n",
      "2     223500.0  7.0   920.0  6.0  2001.0  68.0\n",
      "3     140000.0  7.0   961.0  7.0  1915.0  60.0\n",
      "4     250000.0  8.0  1145.0  9.0  2000.0  84.0\n",
      "...        ...  ...     ...  ...     ...   ...\n",
      "1163  108959.0  4.0  1258.0  6.0  1969.0  60.0\n",
      "1164  194000.0  5.0  1432.0  5.0  1978.0   NaN\n",
      "1165  233170.0  7.0  1502.0  7.0  2009.0  79.0\n",
      "1166  245350.0  8.0  1694.0  7.0  2008.0  64.0\n",
      "1167  173000.0  6.0   959.0  7.0  2000.0  58.0\n",
      "\n",
      "[1168 rows x 6 columns]\n"
     ]
    }
   ],
   "source": [
    "dataP = dataSet[:int(len(dataSet)*0.8)]\n",
    "dataA = dataSet[int(len(dataSet)*0.8):]\n",
    "print(len(dataSet))\n",
    "print(len(dataP))\n",
    "print(len(dataA))\n",
    "df = pd.DataFrame(dataP, columns = ['X0','X1','X2','X3','X4','X5'])\n",
    "print(df)"
   ]
  },
  {
   "cell_type": "markdown",
   "id": "radical-offer",
   "metadata": {},
   "source": [
    "**Media de cada variable:**"
   ]
  },
  {
   "cell_type": "code",
   "execution_count": 45,
   "id": "handled-belarus",
   "metadata": {},
   "outputs": [
    {
     "name": "stdout",
     "output_type": "stream",
     "text": [
      "180590.27739726027 6.101027397260274 1156.3236301369864 6.4854452054794525 1971.451198630137 69.94698544698545\n"
     ]
    }
   ],
   "source": [
    "#print(df.iloc[:,[0]])\n",
    "median = np.mean(df)\n",
    "print(median[0],median[1],median[2],median[3],median[4],median[5])\n"
   ]
  },
  {
   "cell_type": "markdown",
   "id": "viral-penguin",
   "metadata": {},
   "source": [
    "**Valor máximo**"
   ]
  },
  {
   "cell_type": "code",
   "execution_count": 49,
   "id": "restricted-string",
   "metadata": {},
   "outputs": [
    {
     "name": "stdout",
     "output_type": "stream",
     "text": [
      "755000.0\n",
      "10.0\n",
      "3228.0\n",
      "14.0\n",
      "2010.0\n",
      "313.0\n"
     ]
    }
   ],
   "source": [
    "maximum = np.amax(df)\n",
    "for i in range (len(maximum)) :\n",
    "    print(maximum[i])"
   ]
  },
  {
   "cell_type": "markdown",
   "id": "parallel-group",
   "metadata": {},
   "source": [
    "**Valor mínimo**"
   ]
  },
  {
   "cell_type": "code",
   "execution_count": 51,
   "id": "damaged-fleece",
   "metadata": {},
   "outputs": [
    {
     "name": "stdout",
     "output_type": "stream",
     "text": [
      "X0    34900.0\n",
      "X1        1.0\n",
      "X2      334.0\n",
      "X3        2.0\n",
      "X4     1875.0\n",
      "X5       21.0\n",
      "dtype: float64\n"
     ]
    }
   ],
   "source": [
    "minimum = np.amin(df)\n",
    "p\n",
    "print(minimum)"
   ]
  },
  {
   "cell_type": "markdown",
   "id": "floral-berlin",
   "metadata": {},
   "source": [
    "**Rangos**  \n",
    "Reemplazar los valores NAN con \"0\" de cada columna:"
   ]
  },
  {
   "cell_type": "code",
   "execution_count": 54,
   "id": "modular-parade",
   "metadata": {},
   "outputs": [
    {
     "data": {
      "text/html": [
       "<div>\n",
       "<style scoped>\n",
       "    .dataframe tbody tr th:only-of-type {\n",
       "        vertical-align: middle;\n",
       "    }\n",
       "\n",
       "    .dataframe tbody tr th {\n",
       "        vertical-align: top;\n",
       "    }\n",
       "\n",
       "    .dataframe thead th {\n",
       "        text-align: right;\n",
       "    }\n",
       "</style>\n",
       "<table border=\"1\" class=\"dataframe\">\n",
       "  <thead>\n",
       "    <tr style=\"text-align: right;\">\n",
       "      <th></th>\n",
       "      <th>X0</th>\n",
       "      <th>X1</th>\n",
       "      <th>X2</th>\n",
       "      <th>X3</th>\n",
       "      <th>X4</th>\n",
       "      <th>X5</th>\n",
       "    </tr>\n",
       "  </thead>\n",
       "  <tbody>\n",
       "    <tr>\n",
       "      <th>0</th>\n",
       "      <td>208500.0</td>\n",
       "      <td>7.0</td>\n",
       "      <td>856.0</td>\n",
       "      <td>8.0</td>\n",
       "      <td>2003.0</td>\n",
       "      <td>65.0</td>\n",
       "    </tr>\n",
       "    <tr>\n",
       "      <th>1</th>\n",
       "      <td>181500.0</td>\n",
       "      <td>6.0</td>\n",
       "      <td>1262.0</td>\n",
       "      <td>6.0</td>\n",
       "      <td>1976.0</td>\n",
       "      <td>80.0</td>\n",
       "    </tr>\n",
       "    <tr>\n",
       "      <th>2</th>\n",
       "      <td>223500.0</td>\n",
       "      <td>7.0</td>\n",
       "      <td>920.0</td>\n",
       "      <td>6.0</td>\n",
       "      <td>2001.0</td>\n",
       "      <td>68.0</td>\n",
       "    </tr>\n",
       "    <tr>\n",
       "      <th>3</th>\n",
       "      <td>140000.0</td>\n",
       "      <td>7.0</td>\n",
       "      <td>961.0</td>\n",
       "      <td>7.0</td>\n",
       "      <td>1915.0</td>\n",
       "      <td>60.0</td>\n",
       "    </tr>\n",
       "    <tr>\n",
       "      <th>4</th>\n",
       "      <td>250000.0</td>\n",
       "      <td>8.0</td>\n",
       "      <td>1145.0</td>\n",
       "      <td>9.0</td>\n",
       "      <td>2000.0</td>\n",
       "      <td>84.0</td>\n",
       "    </tr>\n",
       "    <tr>\n",
       "      <th>...</th>\n",
       "      <td>...</td>\n",
       "      <td>...</td>\n",
       "      <td>...</td>\n",
       "      <td>...</td>\n",
       "      <td>...</td>\n",
       "      <td>...</td>\n",
       "    </tr>\n",
       "    <tr>\n",
       "      <th>1163</th>\n",
       "      <td>108959.0</td>\n",
       "      <td>4.0</td>\n",
       "      <td>1258.0</td>\n",
       "      <td>6.0</td>\n",
       "      <td>1969.0</td>\n",
       "      <td>60.0</td>\n",
       "    </tr>\n",
       "    <tr>\n",
       "      <th>1164</th>\n",
       "      <td>194000.0</td>\n",
       "      <td>5.0</td>\n",
       "      <td>1432.0</td>\n",
       "      <td>5.0</td>\n",
       "      <td>1978.0</td>\n",
       "      <td>0.0</td>\n",
       "    </tr>\n",
       "    <tr>\n",
       "      <th>1165</th>\n",
       "      <td>233170.0</td>\n",
       "      <td>7.0</td>\n",
       "      <td>1502.0</td>\n",
       "      <td>7.0</td>\n",
       "      <td>2009.0</td>\n",
       "      <td>79.0</td>\n",
       "    </tr>\n",
       "    <tr>\n",
       "      <th>1166</th>\n",
       "      <td>245350.0</td>\n",
       "      <td>8.0</td>\n",
       "      <td>1694.0</td>\n",
       "      <td>7.0</td>\n",
       "      <td>2008.0</td>\n",
       "      <td>64.0</td>\n",
       "    </tr>\n",
       "    <tr>\n",
       "      <th>1167</th>\n",
       "      <td>173000.0</td>\n",
       "      <td>6.0</td>\n",
       "      <td>959.0</td>\n",
       "      <td>7.0</td>\n",
       "      <td>2000.0</td>\n",
       "      <td>58.0</td>\n",
       "    </tr>\n",
       "  </tbody>\n",
       "</table>\n",
       "<p>1168 rows × 6 columns</p>\n",
       "</div>"
      ],
      "text/plain": [
       "            X0   X1      X2   X3      X4    X5\n",
       "0     208500.0  7.0   856.0  8.0  2003.0  65.0\n",
       "1     181500.0  6.0  1262.0  6.0  1976.0  80.0\n",
       "2     223500.0  7.0   920.0  6.0  2001.0  68.0\n",
       "3     140000.0  7.0   961.0  7.0  1915.0  60.0\n",
       "4     250000.0  8.0  1145.0  9.0  2000.0  84.0\n",
       "...        ...  ...     ...  ...     ...   ...\n",
       "1163  108959.0  4.0  1258.0  6.0  1969.0  60.0\n",
       "1164  194000.0  5.0  1432.0  5.0  1978.0   0.0\n",
       "1165  233170.0  7.0  1502.0  7.0  2009.0  79.0\n",
       "1166  245350.0  8.0  1694.0  7.0  2008.0  64.0\n",
       "1167  173000.0  6.0   959.0  7.0  2000.0  58.0\n",
       "\n",
       "[1168 rows x 6 columns]"
      ]
     },
     "execution_count": 54,
     "metadata": {},
     "output_type": "execute_result"
    }
   ],
   "source": [
    "df.fillna(0)\n",
    "#df['X5'] = df['X5'].replace(np.nan, 0) #no me funciono el otro"
   ]
  },
  {
   "cell_type": "code",
   "execution_count": 94,
   "id": "adjusted-municipality",
   "metadata": {},
   "outputs": [
    {
     "name": "stdout",
     "output_type": "stream",
     "text": [
      "            X0\n",
      "0     208500.0\n",
      "1     181500.0\n",
      "2     223500.0\n",
      "3     140000.0\n",
      "4     250000.0\n",
      "...        ...\n",
      "1163  108959.0\n",
      "1164  194000.0\n",
      "1165  233170.0\n",
      "1166  245350.0\n",
      "1167  173000.0\n",
      "\n",
      "[1168 rows x 1 columns]\n",
      "[720100.0, 9.0, 2894.0, 12.0, 135.0, 313.0]\n"
     ]
    }
   ],
   "source": [
    "ranges = []\n",
    "print(df.iloc[:,[0]])\n",
    "for i in range(len(df.count())):\n",
    "        ranges.append(np.ptp(df.iloc[:,[i]]))\n",
    "print(ranges)"
   ]
  },
  {
   "cell_type": "markdown",
   "id": "treated-reach",
   "metadata": {},
   "source": [
    "**Desviacion estandar**"
   ]
  },
  {
   "cell_type": "code",
   "execution_count": 96,
   "id": "after-tongue",
   "metadata": {},
   "outputs": [
    {
     "name": "stdout",
     "output_type": "stream",
     "text": [
      "X0    78781.951080\n",
      "X1        1.377435\n",
      "X2      373.620332\n",
      "X3        1.608452\n",
      "X4       29.938882\n",
      "X5       34.121055\n",
      "dtype: float64\n"
     ]
    }
   ],
   "source": [
    "stdDf = np.std(df)\n",
    "print(stdDf)"
   ]
  },
  {
   "cell_type": "markdown",
   "id": "classified-poison",
   "metadata": {},
   "source": [
    "## **Histograma de Variables**"
   ]
  },
  {
   "cell_type": "code",
   "execution_count": 97,
   "id": "suspected-consistency",
   "metadata": {},
   "outputs": [],
   "source": [
    "import seaborn as sns"
   ]
  },
  {
   "cell_type": "code",
   "execution_count": 107,
   "id": "comic-advantage",
   "metadata": {},
   "outputs": [
    {
     "data": {
      "image/png": "[encoded data removed]",
      "text/plain": [
       "<Figure size 409.25x360 with 1 Axes>"
      ]
     },
     "metadata": {
      "needs_background": "light"
     },
     "output_type": "display_data"
    },
    {
     "data": {
      "image/png": "[encoded data removed]",
      "text/plain": [
       "<Figure size 409.25x360 with 1 Axes>"
      ]
     },
     "metadata": {
      "needs_background": "light"
     },
     "output_type": "display_data"
    },
    {
     "data": {
      "image/png": "[encoded data removed]",
      "text/plain": [
       "<Figure size 409.25x360 with 1 Axes>"
      ]
     },
     "metadata": {
      "needs_background": "light"
     },
     "output_type": "display_data"
    },
    {
     "data": {
      "image/png": "[encoded data removed]",
      "text/plain": [
       "<Figure size 409.25x360 with 1 Axes>"
      ]
     },
     "metadata": {
      "needs_background": "light"
     },
     "output_type": "display_data"
    },
    {
     "data": {
      "image/png": "[encoded data removed]",
      "text/plain": [
       "<Figure size 409.25x360 with 1 Axes>"
      ]
     },
     "metadata": {
      "needs_background": "light"
     },
     "output_type": "display_data"
    },
    {
     "data": {
      "image/png": "[encoded data removed]",
      "text/plain": [
       "<Figure size 409.25x360 with 1 Axes>"
      ]
     },
     "metadata": {
      "needs_background": "light"
     },
     "output_type": "display_data"
    }
   ],
   "source": [
    "#ax = sns.displot(df.iloc[:,['X0']])\n",
    "for i in range(len(df.count())):\n",
    "    ax = sns.displot(df.iloc[:,[i]])"
   ]
  }
 ],
 "metadata": {
  "kernelspec": {
   "display_name": "Python 3",
   "language": "python",
   "name": "python3"
  },
  "language_info": {
   "codemirror_mode": {
    "name": "ipython",
    "version": 3
   },
   "file_extension": ".py",
   "mimetype": "text/x-python",
   "name": "python",
   "nbconvert_exporter": "python",
   "pygments_lexer": "ipython3",
   "version": "3.9.1"
  }
 },
 "nbformat": 4,
 "nbformat_minor": 5
}
