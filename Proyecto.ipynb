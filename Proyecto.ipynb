{
 "cells": [
  {
   "cell_type": "markdown",
   "id": "likely-appendix",
   "metadata": {},
   "source": [
    "# Proyecto"
   ]
  },
  {
   "cell_type": "code",
   "execution_count": 3,
   "id": "built-roulette",
   "metadata": {},
   "outputs": [],
   "source": [
    "import numpy as np\n",
    "import pandas as pd\n",
    "\n"
   ]
  },
  {
   "cell_type": "code",
   "execution_count": 4,
   "id": "elegant-wheel",
   "metadata": {},
   "outputs": [],
   "source": [
    "dataSet = np.load('proyecto_training_data.npy')"
   ]
  },
  {
   "cell_type": "code",
   "execution_count": 23,
   "id": "amino-carpet",
   "metadata": {},
   "outputs": [
    {
     "name": "stdout",
     "output_type": "stream",
     "text": [
      "1460\n",
      "1168\n",
      "292\n",
      "            X0   X1      X2   X3      X4    X5\n",
      "0     208500.0  7.0   856.0  8.0  2003.0  65.0\n",
      "1     181500.0  6.0  1262.0  6.0  1976.0  80.0\n",
      "2     223500.0  7.0   920.0  6.0  2001.0  68.0\n",
      "3     140000.0  7.0   961.0  7.0  1915.0  60.0\n",
      "4     250000.0  8.0  1145.0  9.0  2000.0  84.0\n",
      "...        ...  ...     ...  ...     ...   ...\n",
      "1163  108959.0  4.0  1258.0  6.0  1969.0  60.0\n",
      "1164  194000.0  5.0  1432.0  5.0  1978.0   NaN\n",
      "1165  233170.0  7.0  1502.0  7.0  2009.0  79.0\n",
      "1166  245350.0  8.0  1694.0  7.0  2008.0  64.0\n",
      "1167  173000.0  6.0   959.0  7.0  2000.0  58.0\n",
      "\n",
      "[1168 rows x 6 columns]\n"
     ]
    }
   ],
   "source": [
    "dataP = dataSet[:int(len(dataSet)*0.8)]\n",
    "dataA = dataSet[int(len(dataSet)*0.8):]\n",
    "print(len(dataSet))\n",
    "print(len(dataP))\n",
    "print(len(dataA))\n",
    "df = pd.DataFrame(dataP, columns = ['X0','X1','X2','X3','X4','X5'])\n",
    "print(df)"
   ]
  },
  {
   "cell_type": "markdown",
   "id": "pending-harvest",
   "metadata": {},
   "source": [
    "**Media de cada variable:**"
   ]
  },
  {
   "cell_type": "code",
   "execution_count": 32,
   "id": "developmental-dispute",
   "metadata": {},
   "outputs": [
    {
     "name": "stdout",
     "output_type": "stream",
     "text": [
      "X0    180590.277397\n",
      "dtype: float64 X1    6.101027\n",
      "dtype: float64 X2    1156.32363\n",
      "dtype: float64 X3    6.485445\n",
      "dtype: float64 X4    1971.451199\n",
      "dtype: float64 X5    69.946985\n",
      "dtype: float64\n"
     ]
    }
   ],
   "source": [
    "#print(df.iloc[:,[0]])\n",
    "medianX0 = np.mean(df.iloc[:,[0]])\n",
    "medianX1 = np.mean(df.iloc[:,[1]])\n",
    "medianX2 = np.mean(df.iloc[:,[2]])\n",
    "medianX3 = np.mean(df.iloc[:,[3]])\n",
    "medianX4 = np.mean(df.iloc[:,[4]])\n",
    "medianX5 = np.mean(df.iloc[:,[5]])\n",
    "print(medianX0,medianX1,medianX2,medianX3,medianX4,medianX5)"
   ]
  }
 ],
 "metadata": {
  "kernelspec": {
   "display_name": "Python 3",
   "language": "python",
   "name": "python3"
  },
  "language_info": {
   "codemirror_mode": {
    "name": "ipython",
    "version": 3
   },
   "file_extension": ".py",
   "mimetype": "text/x-python",
   "name": "python",
   "nbconvert_exporter": "python",
   "pygments_lexer": "ipython3",
   "version": "3.9.1"
  }
 },
 "nbformat": 4,
 "nbformat_minor": 5
}
