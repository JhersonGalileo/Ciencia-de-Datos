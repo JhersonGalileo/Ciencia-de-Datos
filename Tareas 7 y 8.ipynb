{
 "cells": [
  {
   "cell_type": "markdown",
   "id": "fleet-removal",
   "metadata": {},
   "source": [
    "### **Diferencias**\n",
    "Las matrices numpy son **estrictamente bidimensionales**, mientras que las matrices numpy (ndarrays) **son N-dimensionales**.  \n",
    "\n",
    "Los objetos Matrix son una **subclase de ndarray**, por lo que heredan todos los atributos y métodos de ndarrays. \n",
    "\n",
    "Tanto los objetos de matriz como los  array tienen **.T** para devolver la transposición, pero los objetos de matriz también tienen **.H** para la transposición conjugada y **.I** para la inversa. \n",
    "\n"
   ]
  },
  {
   "cell_type": "code",
   "execution_count": 2,
   "id": "tribal-bracket",
   "metadata": {},
   "outputs": [],
   "source": [
    "import numpy as np"
   ]
  },
  {
   "cell_type": "code",
   "execution_count": 3,
   "id": "cosmetic-dialogue",
   "metadata": {},
   "outputs": [],
   "source": [
    "def sigmoid(x): #convertir los valores de x al rango de 0 a 1\n",
    "    \n",
    "    return 1/(1+np.exp(-x))"
   ]
  },
  {
   "cell_type": "code",
   "execution_count": 4,
   "id": "drawn-programmer",
   "metadata": {},
   "outputs": [],
   "source": [
    "def relu(x):\n",
    "    print(np.maximum(0, x))\n",
    "    return np.maximum(0, x)"
   ]
  },
  {
   "cell_type": "markdown",
   "id": "consolidated-universal",
   "metadata": {},
   "source": [
    "## **EJEMPLO**"
   ]
  },
  {
   "cell_type": "code",
   "execution_count": 5,
   "id": "expressed-wrestling",
   "metadata": {},
   "outputs": [
    {
     "name": "stdout",
     "output_type": "stream",
     "text": [
      "[[0.1 0.2]\n",
      " [1.  2. ]]\n",
      "[[ 0.25 -8.  ]\n",
      " [ 0.37 14.  ]]\n",
      "[[ 0.099  2.   ]\n",
      " [ 0.99  20.   ]]\n",
      "[[0.52472981 0.88079708]\n",
      " [0.72908792 1.        ]]\n",
      "[[0.99995577]\n",
      " [0.99999332]]\n"
     ]
    }
   ],
   "source": [
    "H1_W = np.array([[0.25,-8],\n",
    "                 [0.37,14]])\n",
    "OL_W = np.array([[4],[9]])\n",
    "\n",
    "X =  np.array([[0.1,0.2],\n",
    "               [1,2]])\n",
    "\n",
    "H1 = np.matmul(X,H1_W)\n",
    "print(X)\n",
    "print(H1_W)\n",
    "print(H1)\n",
    "H1 = sigmoid(H1)  # funcion de activacion: convertir a valores en el intervalo de 0 a 1\n",
    "print(H1)\n",
    "OL = np.matmul(H1,OL_W)\n",
    "OL = sigmoid(OL)  # funcion de activacion: convertir a valores en el intervalo de 0 a 1\n",
    "print(OL)"
   ]
  },
  {
   "cell_type": "markdown",
   "id": "wireless-archive",
   "metadata": {},
   "source": [
    "## **EJERCICIO**"
   ]
  },
  {
   "cell_type": "code",
   "execution_count": 8,
   "id": "daily-universe",
   "metadata": {},
   "outputs": [],
   "source": [
    "def neural_network(X):\n",
    "    H1_W = np.array([[0.712,0.355,0.268],\n",
    "                 [0.112,0.855,0.468]])\n",
    "\n",
    "    OL_W = np.array([[0.116],[0.329],[0.708]])\n",
    "\n",
    "    #X =  np.array([[1,1]]) VECTOR DE PRUEBA\n",
    "\n",
    "    H1 = np.matmul(X,H1_W)\n",
    "    H1 = relu(H1)#sigmoid(H1)#\n",
    "    print(H1)\n",
    "    OL = np.matmul(H1,OL_W)\n",
    "    OL = relu(OL)#sigmoid(OL)#\n",
    "    #print(OL)\n",
    "    return OL"
   ]
  },
  {
   "cell_type": "code",
   "execution_count": 12,
   "id": "angry-doubt",
   "metadata": {},
   "outputs": [
    {
     "name": "stdout",
     "output_type": "stream",
     "text": [
      "[[2.9520e-01 1.7455e+00 9.6280e-01]\n",
      " [2.6400e-01 4.9125e-01 2.9100e-01]\n",
      " [4.5680e+00 9.4700e+00 5.5520e+00]\n",
      " [9.2160e+00 9.3900e+00 6.0240e+00]\n",
      " [5.5440e+00 6.7600e+00 4.2160e+00]\n",
      " [3.0320e-01 7.9050e-01 4.5480e-01]\n",
      " [9.1040e+00 8.5350e+00 5.5560e+00]\n",
      " [9.3600e+01 2.0650e+02 1.2040e+02]\n",
      " [5.8800e+00 9.3250e+00 5.6200e+00]\n",
      " [3.8160e+02 1.3890e+03 7.8240e+02]]\n",
      "[[2.9520e-01 1.7455e+00 9.6280e-01]\n",
      " [2.6400e-01 4.9125e-01 2.9100e-01]\n",
      " [4.5680e+00 9.4700e+00 5.5520e+00]\n",
      " [9.2160e+00 9.3900e+00 6.0240e+00]\n",
      " [5.5440e+00 6.7600e+00 4.2160e+00]\n",
      " [3.0320e-01 7.9050e-01 4.5480e-01]\n",
      " [9.1040e+00 8.5350e+00 5.5560e+00]\n",
      " [9.3600e+01 2.0650e+02 1.2040e+02]\n",
      " [5.8800e+00 9.3250e+00 5.6200e+00]\n",
      " [3.8160e+02 1.3890e+03 7.8240e+02]]\n",
      "[[1.2901751e+00]\n",
      " [3.9827325e-01]\n",
      " [7.5763340e+00]\n",
      " [8.4233580e+00]\n",
      " [5.8520720e+00]\n",
      " [6.1724410e-01]\n",
      " [7.7977270e+00]\n",
      " [1.6403930e+02]\n",
      " [7.7289650e+00]\n",
      " [1.0551858e+03]]\n"
     ]
    }
   ],
   "source": [
    "#neural_network([1,1])\n",
    "X = np.array([\n",
    "    [0.1,2],\n",
    "    [0.3,0.45],\n",
    "    [5,9],\n",
    "    [12,6],\n",
    "    [7,5],\n",
    "    [0.3,0.8],\n",
    "    [12,5],\n",
    "    [100,200],\n",
    "    [7,8],\n",
    "    [300,1500]])\n",
    "\n",
    "res = neural_network(X)\n",
    "#res = neural_network([1,1])\n",
    "#print(res)\n"
   ]
  },
  {
   "cell_type": "code",
   "execution_count": 10,
   "id": "distributed-affairs",
   "metadata": {},
   "outputs": [
    {
     "name": "stdout",
     "output_type": "stream",
     "text": [
      "[[0.824 1.21  0.736]]\n",
      "[[0.824 1.21  0.736]]\n",
      "[[1.014762]]\n",
      "[[1.014762]]\n"
     ]
    }
   ],
   "source": [
    "Xtest = np.array([[1,1]])\n",
    "print(neural_network(Xtest))"
   ]
  }
 ],
 "metadata": {
  "kernelspec": {
   "display_name": "Python 3",
   "language": "python",
   "name": "python3"
  },
  "language_info": {
   "codemirror_mode": {
    "name": "ipython",
    "version": 3
   },
   "file_extension": ".py",
   "mimetype": "text/x-python",
   "name": "python",
   "nbconvert_exporter": "python",
   "pygments_lexer": "ipython3",
   "version": "3.9.1"
  }
 },
 "nbformat": 4,
 "nbformat_minor": 5
}
