{
 "cells": [
  {
   "cell_type": "markdown",
   "id": "fleet-removal",
   "metadata": {},
   "source": [
    "### **Diferencias**\n",
    "Las matrices numpy son **estrictamente bidimensionales**, mientras que las matrices numpy (ndarrays) **son N-dimensionales**.  \n",
    "\n",
    "Los objetos Matrix son una **subclase de ndarray**, por lo que heredan todos los atributos y métodos de ndarrays. \n",
    "\n",
    "Tanto los objetos de matriz como los  array tienen **.T** para devolver la transposición, pero los objetos de matriz también tienen **.H** para la transposición conjugada y **.I** para la inversa. \n",
    "\n"
   ]
  },
  {
   "cell_type": "code",
   "execution_count": 4,
   "id": "tribal-bracket",
   "metadata": {},
   "outputs": [],
   "source": [
    "import numpy as np"
   ]
  },
  {
   "cell_type": "code",
   "execution_count": 8,
   "id": "cosmetic-dialogue",
   "metadata": {},
   "outputs": [],
   "source": [
    "def sigmoid(x): #convertir los valores de x al rango de 0 a 1\n",
    "    \n",
    "    return 1/(1+np.exp(-x))"
   ]
  },
  {
   "cell_type": "markdown",
   "id": "solar-laptop",
   "metadata": {},
   "source": [
    "## **EJEMPLO**"
   ]
  },
  {
   "cell_type": "code",
   "execution_count": 12,
   "id": "shared-termination",
   "metadata": {},
   "outputs": [
    {
     "name": "stdout",
     "output_type": "stream",
     "text": [
      "[[0.1 0.2]\n",
      " [1.  2. ]]\n",
      "[[ 0.25 -8.  ]\n",
      " [ 0.37 14.  ]]\n",
      "[[ 0.099  2.   ]\n",
      " [ 0.99  20.   ]]\n",
      "[[0.52472981 0.88079708]\n",
      " [0.72908792 1.        ]]\n",
      "[[0.99995577]\n",
      " [0.99999332]]\n"
     ]
    }
   ],
   "source": [
    "H1_W = np.array([[0.25,-8],\n",
    "                 [0.37,14]])\n",
    "OL_W = np.array([[4],[9]])\n",
    "\n",
    "X =  np.array([[0.1,0.2],\n",
    "               [1,2]])\n",
    "\n",
    "H1 = np.matmul(X,H1_W)\n",
    "print(X)\n",
    "print(H1_W)\n",
    "print(H1)\n",
    "H1 = sigmoid(H1)  # funcion de activacion: convertir a valores en el intervalo de 0 a 1\n",
    "print(H1)\n",
    "OL = np.matmul(H1,OL_W)\n",
    "OL = sigmoid(OL)  # funcion de activacion: convertir a valores en el intervalo de 0 a 1\n",
    "print(OL)"
   ]
  },
  {
   "cell_type": "markdown",
   "id": "corporate-pastor",
   "metadata": {},
   "source": [
    "## **EJERCICIO**"
   ]
  },
  {
   "cell_type": "code",
   "execution_count": 85,
   "id": "daily-universe",
   "metadata": {},
   "outputs": [],
   "source": [
    "def neural_network(x):\n",
    "    H1_W = np.array([[0.712,0.355,0.268],\n",
    "                 [0.112,0.855,0.468]])\n",
    "\n",
    "    OL_W = np.array([[0.116],[0.329],[0.708]])\n",
    "\n",
    "    #X =  np.array([[1,1]]) VECTOR DE PRUEBA\n",
    "\n",
    "    H1 = np.matmul(X,H1_W)\n",
    "    H1 = sigmoid(H1)\n",
    "    OL = np.matmul(H1,OL_W)\n",
    "    OL = sigmoid(OL)\n",
    "    #print(OL)\n",
    "    return OL"
   ]
  },
  {
   "cell_type": "code",
   "execution_count": 86,
   "id": "appointed-greeting",
   "metadata": {},
   "outputs": [
    {
     "name": "stdout",
     "output_type": "stream",
     "text": [
      "[[0.70244573]\n",
      " [0.66259284]\n",
      " [0.75933678]\n",
      " [0.75973948]\n",
      " [0.75802295]\n",
      " [0.6739704 ]\n",
      " [0.75954693]\n",
      " [0.76005845]\n",
      " [0.75952743]\n",
      " [0.76005845]]\n"
     ]
    }
   ],
   "source": [
    "#neural_network([1,1])\n",
    "X = np.array([\n",
    "    [0.1,2],\n",
    "    [0.3,0.45],\n",
    "    [5,9],\n",
    "    [12,6],\n",
    "    [7,5],\n",
    "    [0.3,0.8],\n",
    "    [12,5],\n",
    "    [100,200],\n",
    "    [7,8],\n",
    "    [300,1500]])\n",
    "\n",
    "res = neural_network(X)\n",
    "print(res)\n"
   ]
  }
 ],
 "metadata": {
  "kernelspec": {
   "display_name": "Python 3",
   "language": "python",
   "name": "python3"
  },
  "language_info": {
   "codemirror_mode": {
    "name": "ipython",
    "version": 3
   },
   "file_extension": ".py",
   "mimetype": "text/x-python",
   "name": "python",
   "nbconvert_exporter": "python",
   "pygments_lexer": "ipython3",
   "version": "3.9.1"
  }
 },
 "nbformat": 4,
 "nbformat_minor": 5
}
